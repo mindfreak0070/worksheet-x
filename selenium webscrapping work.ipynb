{
 "cells": [
  {
   "cell_type": "code",
   "execution_count": 357,
   "metadata": {},
   "outputs": [
    {
     "name": "stdout",
     "output_type": "stream",
     "text": [
      "Requirement already satisfied: selenium in c:\\users\\rulebender\\anaconda3\\lib\\site-packages (3.141.0)\n",
      "Requirement already satisfied: urllib3 in c:\\users\\rulebender\\anaconda3\\lib\\site-packages (from selenium) (1.25.11)\n"
     ]
    }
   ],
   "source": [
    "! pip install selenium"
   ]
  },
  {
   "cell_type": "code",
   "execution_count": 358,
   "metadata": {},
   "outputs": [],
   "source": [
    "import selenium\n",
    "import pandas as pd\n",
    "from selenium import webdriver"
   ]
  },
  {
   "cell_type": "code",
   "execution_count": 359,
   "metadata": {},
   "outputs": [],
   "source": [
    "driver=webdriver.Edge('msedgedriver.exe')"
   ]
  },
  {
   "cell_type": "raw",
   "metadata": {},
   "source": [
    "Write a python program to scrape data for “Data Analyst” Job position in \n",
    "“Bangalore” location. You have to scrape the job-title, job-location, company_name,\n",
    "experience_required. You have to scrape first 10 jobs data."
   ]
  },
  {
   "cell_type": "code",
   "execution_count": null,
   "metadata": {},
   "outputs": [],
   "source": [
    "url = \"https://www.naukri.com/\"\n",
    "driver.get(url)"
   ]
  },
  {
   "cell_type": "code",
   "execution_count": null,
   "metadata": {},
   "outputs": [],
   "source": [
    "job_position=driver.find_element_by_id('qsb-keyword-sugg')\n",
    "job_position"
   ]
  },
  {
   "cell_type": "code",
   "execution_count": null,
   "metadata": {},
   "outputs": [],
   "source": [
    "job_position.send_keys(\"Data Analyst\")"
   ]
  },
  {
   "cell_type": "code",
   "execution_count": null,
   "metadata": {},
   "outputs": [],
   "source": [
    "location=driver.find_element_by_id('qsb-location-sugg')\n",
    "location.send_keys(\"Banglore\")"
   ]
  },
  {
   "cell_type": "code",
   "execution_count": null,
   "metadata": {},
   "outputs": [],
   "source": [
    "search=driver.find_element_by_xpath(\"//button[@class='btn']\")\n",
    "search"
   ]
  },
  {
   "cell_type": "code",
   "execution_count": null,
   "metadata": {},
   "outputs": [],
   "source": [
    "search.click()"
   ]
  },
  {
   "cell_type": "code",
   "execution_count": null,
   "metadata": {},
   "outputs": [],
   "source": [
    "job_title=driver.find_elements_by_xpath('//a[@class=\"title fw500 ellipsis\"]')\n",
    "job_title"
   ]
  },
  {
   "cell_type": "code",
   "execution_count": null,
   "metadata": {
    "scrolled": true
   },
   "outputs": [],
   "source": [
    "titles=[]\n",
    "for i in job_title:\n",
    "    titles.append(i.text)\n",
    "    \n",
    "titles"
   ]
  },
  {
   "cell_type": "code",
   "execution_count": null,
   "metadata": {},
   "outputs": [],
   "source": [
    "len(titles)"
   ]
  },
  {
   "cell_type": "code",
   "execution_count": null,
   "metadata": {},
   "outputs": [],
   "source": [
    "companies=driver.find_elements_by_xpath(\"//a[@class='subTitle ellipsis fleft']\")\n",
    "companies"
   ]
  },
  {
   "cell_type": "code",
   "execution_count": null,
   "metadata": {},
   "outputs": [],
   "source": [
    "company_name=[]\n",
    "for i in companies:\n",
    "    company_name.append(i.text)\n",
    "    \n",
    "company_name"
   ]
  },
  {
   "cell_type": "code",
   "execution_count": null,
   "metadata": {},
   "outputs": [],
   "source": [
    "len(company_name)"
   ]
  },
  {
   "cell_type": "code",
   "execution_count": null,
   "metadata": {},
   "outputs": [],
   "source": [
    " job_location=driver.find_elements_by_xpath(\"//li[@class='fleft grey-text br2 placeHolderLi location']\")\n",
    "job_location"
   ]
  },
  {
   "cell_type": "code",
   "execution_count": null,
   "metadata": {},
   "outputs": [],
   "source": [
    "location=[]\n",
    "for i in job_location:\n",
    "    location.append(i.text)\n",
    "    \n",
    "location"
   ]
  },
  {
   "cell_type": "code",
   "execution_count": null,
   "metadata": {},
   "outputs": [],
   "source": [
    "len(location)"
   ]
  },
  {
   "cell_type": "code",
   "execution_count": null,
   "metadata": {},
   "outputs": [],
   "source": [
    "Exp_require=driver.find_elements_by_xpath(\"//li[@class='fleft grey-text br2 placeHolderLi experience']\")\n",
    "Exp_require"
   ]
  },
  {
   "cell_type": "code",
   "execution_count": null,
   "metadata": {},
   "outputs": [],
   "source": [
    "ask_experiance=[]\n",
    "for i in Exp_require:\n",
    "    ask_experiance.append(i.text)\n",
    "    \n",
    "ask_experiance"
   ]
  },
  {
   "cell_type": "code",
   "execution_count": null,
   "metadata": {},
   "outputs": [],
   "source": [
    "len(ask_experiance)"
   ]
  },
  {
   "cell_type": "code",
   "execution_count": null,
   "metadata": {},
   "outputs": [],
   "source": [
    "Jobs=pd.DataFrame({})\n",
    "Jobs['title']=titles\n",
    "Jobs['company']=company_name\n",
    "Jobs['exp']=ask_experiance\n",
    "Jobs['loc']=location\n",
    "\n",
    "Jobs"
   ]
  },
  {
   "cell_type": "code",
   "execution_count": null,
   "metadata": {},
   "outputs": [],
   "source": [
    "Jobs.head(10)"
   ]
  },
  {
   "cell_type": "raw",
   "metadata": {},
   "source": [
    "Q2: Write a python program to scrape data for “Data Scientist” Job position in \n",
    "“Bangalore” location. You have to scrape the job-title, job-location,\n",
    "company_name, full job-description. You have to scrape first 10 jobs data."
   ]
  },
  {
   "cell_type": "code",
   "execution_count": null,
   "metadata": {},
   "outputs": [],
   "source": [
    "url = \"https://www.naukri.com/\"\n",
    "driver.get(url)"
   ]
  },
  {
   "cell_type": "code",
   "execution_count": null,
   "metadata": {},
   "outputs": [],
   "source": [
    "job_position=driver.find_element_by_id('qsb-keyword-sugg')\n",
    "job_position\n",
    "\n",
    "job_position.send_keys(\"Data Scientist\")"
   ]
  },
  {
   "cell_type": "code",
   "execution_count": null,
   "metadata": {},
   "outputs": [],
   "source": [
    "location=driver.find_element_by_id('qsb-location-sugg')\n",
    "location.send_keys(\"Banglore\")"
   ]
  },
  {
   "cell_type": "code",
   "execution_count": null,
   "metadata": {},
   "outputs": [],
   "source": [
    "search=driver.find_element_by_xpath(\"//button[@class='btn']\")\n",
    "search"
   ]
  },
  {
   "cell_type": "code",
   "execution_count": null,
   "metadata": {},
   "outputs": [],
   "source": [
    "search.click()"
   ]
  },
  {
   "cell_type": "code",
   "execution_count": null,
   "metadata": {},
   "outputs": [],
   "source": [
    "job_title1=driver.find_elements_by_xpath('//a[@class=\"title fw500 ellipsis\"]')\n",
    "job_title1"
   ]
  },
  {
   "cell_type": "code",
   "execution_count": null,
   "metadata": {},
   "outputs": [],
   "source": [
    "titles1=[]\n",
    "for i in job_title1:\n",
    "    titles1.append(i.text)\n",
    "    \n",
    "titles1"
   ]
  },
  {
   "cell_type": "code",
   "execution_count": null,
   "metadata": {},
   "outputs": [],
   "source": [
    "len(titles1)"
   ]
  },
  {
   "cell_type": "code",
   "execution_count": null,
   "metadata": {},
   "outputs": [],
   "source": [
    "companies1=driver.find_elements_by_xpath(\"//a[@class='subTitle ellipsis fleft']\")\n",
    "companies1"
   ]
  },
  {
   "cell_type": "code",
   "execution_count": null,
   "metadata": {},
   "outputs": [],
   "source": [
    "company_name1=[]\n",
    "for i in companies1:\n",
    "    company_name1.append(i.text)\n",
    "    \n",
    "company_name1"
   ]
  },
  {
   "cell_type": "code",
   "execution_count": null,
   "metadata": {},
   "outputs": [],
   "source": [
    "len(company_name1)"
   ]
  },
  {
   "cell_type": "code",
   "execution_count": null,
   "metadata": {},
   "outputs": [],
   "source": [
    "job_location1=driver.find_elements_by_xpath(\"//li[@class='fleft grey-text br2 placeHolderLi location']\")\n",
    "\n",
    "location1=[]\n",
    "for i in job_location1:\n",
    "    location1.append(i.text)\n",
    "    \n",
    "location1"
   ]
  },
  {
   "cell_type": "code",
   "execution_count": null,
   "metadata": {},
   "outputs": [],
   "source": [
    "len(location1)"
   ]
  },
  {
   "cell_type": "code",
   "execution_count": null,
   "metadata": {},
   "outputs": [],
   "source": [
    "job_Discription=driver.find_elements_by_xpath(\"//div[@class='job-description fs12 grey-text']\")\n",
    "job_Discription"
   ]
  },
  {
   "cell_type": "code",
   "execution_count": null,
   "metadata": {},
   "outputs": [],
   "source": [
    "discription=[]\n",
    "for i in job_Discription:\n",
    "    discription.append(i.text)\n",
    "    \n",
    "discription"
   ]
  },
  {
   "cell_type": "code",
   "execution_count": null,
   "metadata": {},
   "outputs": [],
   "source": [
    "len(discription)"
   ]
  },
  {
   "cell_type": "code",
   "execution_count": null,
   "metadata": {},
   "outputs": [],
   "source": [
    "Jobs1=pd.DataFrame({})\n",
    "Jobs1['title']=titles1\n",
    "Jobs1['company']=company_name1\n",
    "Jobs1['desc']=discription\n",
    "Jobs1['loc']=location1\n",
    "\n",
    "Jobs1[0:10]"
   ]
  },
  {
   "cell_type": "raw",
   "metadata": {},
   "source": [
    "In this question you have to scrape data using the filters available on the \n",
    "webpage as shown below:\n",
    "\n",
    "You have to use the location and salary filter.\n",
    "You have to scrape data for “Data Scientist” designation for first 10 job results.\n",
    "You have to scrape the job-title, job-location, company_name,\n",
    "experience_required.\n",
    "The location filter to be used is “Delhi/NCR”\n",
    "The salary filter to be used is “3-6” lakhs\n",
    "The task will be done as shown in the below steps:"
   ]
  },
  {
   "cell_type": "code",
   "execution_count": null,
   "metadata": {},
   "outputs": [],
   "source": [
    "url = \"https://www.naukri.com/\"\n",
    "driver.get(url)"
   ]
  },
  {
   "cell_type": "code",
   "execution_count": null,
   "metadata": {},
   "outputs": [],
   "source": [
    "title=driver.find_element_by_id(\"qsb-keyword-sugg\")\n",
    "title"
   ]
  },
  {
   "cell_type": "code",
   "execution_count": null,
   "metadata": {},
   "outputs": [],
   "source": [
    "title.send_keys(\"Data Scientist\")"
   ]
  },
  {
   "cell_type": "code",
   "execution_count": null,
   "metadata": {},
   "outputs": [],
   "source": [
    "search=driver.find_element_by_xpath(\"//button[@class='btn']\")\n",
    "search"
   ]
  },
  {
   "cell_type": "code",
   "execution_count": null,
   "metadata": {},
   "outputs": [],
   "source": [
    "search.click()"
   ]
  },
  {
   "cell_type": "code",
   "execution_count": null,
   "metadata": {},
   "outputs": [],
   "source": [
    "salary_filter=driver.find_element_by_xpath('/html/body/div[1]/div[3]/div[2]/section[1]/div[2]/div[4]/div[2]/div[2]/label/i')\n",
    "salary_filter.click()\n"
   ]
  },
  {
   "cell_type": "code",
   "execution_count": null,
   "metadata": {},
   "outputs": [],
   "source": [
    "locate_filter=driver.find_element_by_xpath('/html/body/div[1]/div[3]/div[2]/section[1]/div[2]/div[4]/div[2]/div[3]/label/i')\n",
    "locate_filter.click()"
   ]
  },
  {
   "cell_type": "code",
   "execution_count": null,
   "metadata": {},
   "outputs": [],
   "source": [
    "job_title2=driver.find_elements_by_xpath('//a[@class=\"title fw500 ellipsis\"]')\n",
    "job_title2"
   ]
  },
  {
   "cell_type": "code",
   "execution_count": null,
   "metadata": {},
   "outputs": [],
   "source": [
    "titles2=[]\n",
    "for i in job_title2:\n",
    "    titles2.append(i.text)\n",
    "    \n",
    "titles2"
   ]
  },
  {
   "cell_type": "code",
   "execution_count": null,
   "metadata": {},
   "outputs": [],
   "source": [
    "companies2=driver.find_elements_by_xpath(\"//div[@class='mt-7 companyInfo subheading lh16']\")\n",
    "companies2\n",
    "\n",
    "company_name2=[]\n",
    "for i in companies2:\n",
    "    company_name2.append(i.text)\n",
    "    \n",
    "company_name2"
   ]
  },
  {
   "cell_type": "code",
   "execution_count": null,
   "metadata": {},
   "outputs": [],
   "source": [
    "Exp_require1=driver.find_elements_by_xpath(\"//li[@class='fleft grey-text br2 placeHolderLi experience']\")\n",
    "Exp_require1"
   ]
  },
  {
   "cell_type": "code",
   "execution_count": null,
   "metadata": {},
   "outputs": [],
   "source": [
    "ask_experiance=[]\n",
    "for i in Exp_require1:\n",
    "    ask_experiance.append(i.text)\n",
    "    \n",
    "ask_experiance"
   ]
  },
  {
   "cell_type": "code",
   "execution_count": null,
   "metadata": {},
   "outputs": [],
   "source": [
    "job_location2=driver.find_elements_by_xpath(\"//li[@class='fleft grey-text br2 placeHolderLi location']\")\n",
    "job_location2"
   ]
  },
  {
   "cell_type": "code",
   "execution_count": null,
   "metadata": {},
   "outputs": [],
   "source": [
    "\n",
    "location2=[]\n",
    "for i in job_location2:\n",
    "    location2.append(i.text)\n",
    "    \n",
    "location2"
   ]
  },
  {
   "cell_type": "code",
   "execution_count": null,
   "metadata": {},
   "outputs": [],
   "source": [
    "Jobs2=pd.DataFrame({})\n",
    "Jobs2['title']=titles2\n",
    "Jobs2['company']=company_name2\n",
    "Jobs2['exp']=ask_experiance\n",
    "Jobs2['loc']=location2\n",
    "\n",
    "Jobs2[0:10]"
   ]
  },
  {
   "cell_type": "raw",
   "metadata": {},
   "source": [
    "Write a python program to scrape data for first 10 job results for Data scientist \n",
    "Designation in Noida location. You have to scrape company_name, No. of days \n",
    "ago when job was posted, Rating of the company.\n",
    "This task will be done in following steps:\n",
    "1. first get the webpage https://www.glassdoor.co.in/index.htm\n",
    "2. Enter “Data Scientist” in “Job Title,Keyword,Company” field and enter “Noida” \n",
    "in “location” field.\n",
    "3. Then click the search button. You will land up in the below page:\n",
    "4.Then scrape the data for the first 10 jobs results you get in the above shown \n",
    "page.\n",
    "5.Finally create a dataframe of the scraped data.\n"
   ]
  },
  {
   "cell_type": "code",
   "execution_count": null,
   "metadata": {},
   "outputs": [],
   "source": [
    "url1 = \"https://www.glassdoor.co.in/Salaries/index.htm\"\n",
    "driver.get(url1)"
   ]
  },
  {
   "cell_type": "code",
   "execution_count": null,
   "metadata": {},
   "outputs": [],
   "source": [
    "gdtitle=driver.find_element_by_id(\"KeywordSearch\")\n",
    "gdtitle"
   ]
  },
  {
   "cell_type": "code",
   "execution_count": null,
   "metadata": {},
   "outputs": [],
   "source": [
    "gdtitle.send_keys(\"Data Scientist\")"
   ]
  },
  {
   "cell_type": "code",
   "execution_count": null,
   "metadata": {},
   "outputs": [],
   "source": [
    "gdlocation=driver.find_element_by_id(\"LocationSearch\")\n",
    "gdlocation"
   ]
  },
  {
   "cell_type": "code",
   "execution_count": null,
   "metadata": {},
   "outputs": [],
   "source": [
    "gdlocation.send_keys(\"Noida\")"
   ]
  },
  {
   "cell_type": "code",
   "execution_count": null,
   "metadata": {},
   "outputs": [],
   "source": [
    "search1=driver.find_element_by_xpath(\"//button[@class='gd-btn-mkt']\")\n",
    "search1"
   ]
  },
  {
   "cell_type": "code",
   "execution_count": null,
   "metadata": {},
   "outputs": [],
   "source": [
    "search1.click()"
   ]
  },
  {
   "cell_type": "code",
   "execution_count": null,
   "metadata": {},
   "outputs": [],
   "source": [
    "company=driver.find_elements_by_xpath(\"//a[@class='css-f3vw95 e1aj7ssy3']\")\n",
    "company"
   ]
  },
  {
   "cell_type": "code",
   "execution_count": null,
   "metadata": {},
   "outputs": [],
   "source": [
    "company_name=[]\n",
    "for i in company:\n",
    "    company_name.append(i.text)\n",
    "    \n",
    "company_name"
   ]
  },
  {
   "cell_type": "code",
   "execution_count": null,
   "metadata": {},
   "outputs": [],
   "source": [
    "title=driver.find_elements_by_xpath(\"//div[@class='col-12 col-lg px-xsm']\")\n",
    "title\n",
    "\n",
    "title5=[]\n",
    "for i in title:\n",
    "    title5.append(i.text)\n",
    "    \n",
    "title5"
   ]
  },
  {
   "cell_type": "code",
   "execution_count": null,
   "metadata": {},
   "outputs": [],
   "source": [
    "salary=driver.find_elements_by_xpath(\"//div[@class='col-12 col-lg-4 px-lg-0 d-flex align-items-baseline']\")\n",
    "\n",
    "salary1=[]\n",
    "for i in salary:\n",
    "    salary1.append(i.text)\n",
    "    \n",
    "salary1"
   ]
  },
  {
   "cell_type": "code",
   "execution_count": null,
   "metadata": {},
   "outputs": [],
   "source": [
    "DSJobs=pd.DataFrame({})\n",
    "DSJobs['title']=title5\n",
    "DSJobs['company']=company_name\n",
    "DSJobs['salary']=salary1\n",
    "\n",
    "DSJobs[0:10]"
   ]
  },
  {
   "cell_type": "raw",
   "metadata": {},
   "source": [
    "Q5: Write a python program to scrape the salary data for Data Scientist designation \n",
    "in Noida location.\n",
    "You have to scrape Company name, Number of salaries, Average salary, Min\n",
    "salary, Max Salary.\n",
    "The above task will be, done as shown in the below steps:\n",
    "1. first get the webpage https://www.glassdoor.co.in/Salaries/index.htm\n",
    "2. Enter “Data Scientist” in Job title field and “Noida” in location field.\n",
    "3. Click the search button.\n",
    "4. After that you will land on the below page \n",
    "5. Scrape data for first 10 companies. Scrape the min salary, max salary, company \n",
    "name, Average salary and rating of the company.\n",
    "6.Store the data in a dataframe."
   ]
  },
  {
   "cell_type": "code",
   "execution_count": null,
   "metadata": {},
   "outputs": [],
   "source": [
    "url1 = \"https://www.glassdoor.co.in/Salaries/index.htm\"\n",
    "driver.get(url1)\n",
    "\n",
    "gdtitle=driver.find_element_by_id(\"KeywordSearch\")\n",
    "\n",
    "gdtitle.send_keys(\"Data Scientist\")\n",
    "\n",
    "gdlocation=driver.find_element_by_id(\"LocationSearch\")\n",
    "\n",
    "gdlocation.send_keys(\"Noida\")"
   ]
  },
  {
   "cell_type": "code",
   "execution_count": null,
   "metadata": {},
   "outputs": [],
   "source": [
    "search1=driver.find_element_by_xpath(\"//span[@class='css-8zxfjs']\")\n",
    "\n",
    "search1.click()"
   ]
  },
  {
   "cell_type": "code",
   "execution_count": null,
   "metadata": {},
   "outputs": [],
   "source": [
    "company=driver.find_elements_by_xpath(\"//a[@class='css-f3vw95 e1aj7ssy3']\")\n",
    "\n",
    "company_name=[]\n",
    "for i in company:\n",
    "    company_name.append(i.text)\n",
    "    \n",
    "company_name"
   ]
  },
  {
   "cell_type": "code",
   "execution_count": null,
   "metadata": {},
   "outputs": [],
   "source": [
    "title=driver.find_elements_by_xpath(\"//div[@class='col-12 col-lg px-xsm']\")\n",
    "\n",
    "title5=[]\n",
    "for i in title:\n",
    "    title5.append(i.text)\n",
    "    \n",
    "title5"
   ]
  },
  {
   "cell_type": "code",
   "execution_count": null,
   "metadata": {},
   "outputs": [],
   "source": [
    "salary=driver.find_elements_by_xpath(\"//div[@class='col-12 col-lg-4 px-lg-0 d-flex align-items-baseline']\")\n",
    "\n",
    "salary1=[]\n",
    "for i in salary:\n",
    "    salary1.append(i.text)\n",
    "    \n",
    "salary1"
   ]
  },
  {
   "cell_type": "code",
   "execution_count": null,
   "metadata": {},
   "outputs": [],
   "source": [
    "min_max_salary=driver.find_elements_by_xpath(\"//div[@class='d-flex mt-xxsm css-79elbk epuxyqn0']\")\n",
    "\n",
    "max_min_salary=[]\n",
    "for i in min_max_salary:\n",
    "    max_min_salary.append(i.text.replace('\\n',''))\n",
    "    \n",
    "max_min_salary"
   ]
  },
  {
   "cell_type": "code",
   "execution_count": null,
   "metadata": {},
   "outputs": [],
   "source": [
    "ratings=driver.find_elements_by_xpath(\"//span[@class='m-0 css-kyx745']\")\n",
    "\n",
    "overall_ratings=[]\n",
    "for i in ratings:\n",
    "    overall_ratings.append(i.text.replace('/n',''))\n",
    "    \n",
    "overall_ratings"
   ]
  },
  {
   "cell_type": "code",
   "execution_count": null,
   "metadata": {},
   "outputs": [],
   "source": [
    "DSJobs1=pd.DataFrame({})\n",
    "DSJobs1['title']=title5\n",
    "DSJobs1['company']=company_name\n",
    "DSJobs1['avg_salary']=salary1\n",
    "DSJobs1['final_ratings']=overall_ratings\n",
    "DSJobs1['mm_salary']=max_min_salary\n",
    "\n",
    "DSJobs1[0:10]"
   ]
  },
  {
   "cell_type": "raw",
   "metadata": {},
   "source": [
    "Q6 : Scrape data of first 100 sunglasses listings on flipkart.com. You have to \n",
    "scrape four attributes:\n",
    "1. Brand\n",
    "2. Product Description\n",
    "3. Price\n",
    "4. Discount %\n",
    "The attributes which you have to scrape is ticked marked in the below image.\n",
    "To scrape the data you have to go through following steps:\n",
    "1. Go to flipkart webpage by url https://www.flipkart.com/\n",
    "2. Enter “sunglasses” in the search field where “search for products, brands and \n",
    "more” is written and click the search icon\n",
    "3. after that you will reach to a webpage having a lot of sunglasses. From this page \n",
    "you can scrap the required data as usual.\n",
    "4. after scraping data from the first page, go to the “Next” Button at the bottom of \n",
    "the page , then click on it\n",
    "5. Now scrape data from this page as usual\n",
    "6. repeat this until you get data for 100 sunglasses.\n"
   ]
  },
  {
   "cell_type": "code",
   "execution_count": null,
   "metadata": {},
   "outputs": [],
   "source": [
    "url2 = \"https://www.flipkart.com/\"\n",
    "driver.get(url1)"
   ]
  },
  {
   "cell_type": "code",
   "execution_count": null,
   "metadata": {},
   "outputs": [],
   "source": [
    "search_bar=driver.find_element_by_xpath(\"/html/body/div/div/div[1]/div[1]/div[2]/div[2]/form/div/div/input\")"
   ]
  },
  {
   "cell_type": "code",
   "execution_count": null,
   "metadata": {},
   "outputs": [],
   "source": [
    "search_bar.send_keys(\"sunglasses\")"
   ]
  },
  {
   "cell_type": "code",
   "execution_count": null,
   "metadata": {},
   "outputs": [],
   "source": [
    "search_button=driver.find_element_by_xpath(\"//button[@class='L0Z3Pu']\")\n",
    "search_button.click()"
   ]
  },
  {
   "cell_type": "code",
   "execution_count": null,
   "metadata": {},
   "outputs": [],
   "source": [
    "brand_filter=driver.find_element_by_xpath(\"/html/body/div[1]/div/div[3]/div[1]/div[1]/div/div[1]/div/section[4]/div[2]/div[1]/div[2]/div/label/div[1]\")\n",
    "brand_filter.click()\n"
   ]
  },
  {
   "cell_type": "code",
   "execution_count": null,
   "metadata": {},
   "outputs": [],
   "source": [
    "brand_name=driver.find_elements_by_xpath(\"//div[@class='_2WkVRV']\")\n",
    "brand_name"
   ]
  },
  {
   "cell_type": "code",
   "execution_count": null,
   "metadata": {},
   "outputs": [],
   "source": [
    "Brand_Name=[]\n",
    "for i in brand_name:\n",
    "    Brand_Name.append(i.text)\n",
    "    \n",
    "Brand_Name"
   ]
  },
  {
   "cell_type": "code",
   "execution_count": null,
   "metadata": {},
   "outputs": [],
   "source": [
    "len(Brand_Name)"
   ]
  },
  {
   "cell_type": "code",
   "execution_count": null,
   "metadata": {},
   "outputs": [],
   "source": [
    "discription=driver.find_elements_by_xpath(\"//a[@class='IRpwTa']\")\n",
    "discription"
   ]
  },
  {
   "cell_type": "code",
   "execution_count": null,
   "metadata": {},
   "outputs": [],
   "source": [
    "Product_discription=[]\n",
    "for i in discription:\n",
    "    Product_discription.append(i.text)\n",
    "    \n",
    "Product_discription"
   ]
  },
  {
   "cell_type": "code",
   "execution_count": null,
   "metadata": {
    "scrolled": true
   },
   "outputs": [],
   "source": [
    "price=driver.find_elements_by_xpath(\"//div[@class='_30jeq3']\")\n",
    "price"
   ]
  },
  {
   "cell_type": "code",
   "execution_count": null,
   "metadata": {},
   "outputs": [],
   "source": [
    "Price_discription=[]\n",
    "for i in price:\n",
    "    Price_discription.append(i.text)\n",
    "    \n",
    "Price_discription"
   ]
  },
  {
   "cell_type": "code",
   "execution_count": null,
   "metadata": {},
   "outputs": [],
   "source": [
    "disc=driver.find_elements_by_xpath(\"//div[@class='_3Ay6Sb']\")\n",
    "disc"
   ]
  },
  {
   "cell_type": "code",
   "execution_count": null,
   "metadata": {},
   "outputs": [],
   "source": [
    "discount_discription=[]\n",
    "for i in disc:\n",
    "    discount_discription.append(i.text)\n",
    "    \n",
    "discount_discription"
   ]
  },
  {
   "cell_type": "code",
   "execution_count": null,
   "metadata": {},
   "outputs": [],
   "source": [
    "next_page=driver.find_element_by_xpath(\"/html/body/div[1]/div/div[3]/div/div[2]/div[12]/div/div/nav/a[2]\")\n",
    "next_page.click()"
   ]
  },
  {
   "cell_type": "code",
   "execution_count": null,
   "metadata": {},
   "outputs": [],
   "source": [
    "brand_name1=driver.find_elements_by_xpath(\"//div[@class='_2WkVRV']\")\n",
    "\n",
    "for i in brand_name1:\n",
    "    Brand_Name.append(i.text)\n",
    "    \n",
    "Brand_Name"
   ]
  },
  {
   "cell_type": "code",
   "execution_count": null,
   "metadata": {},
   "outputs": [],
   "source": [
    "len(Brand_Name)"
   ]
  },
  {
   "cell_type": "code",
   "execution_count": null,
   "metadata": {},
   "outputs": [],
   "source": [
    "discription=driver.find_elements_by_xpath(\"//a[@class='IRpwTa']\")\n",
    "discription"
   ]
  },
  {
   "cell_type": "code",
   "execution_count": null,
   "metadata": {},
   "outputs": [],
   "source": [
    "for i in discription:\n",
    "    Product_discription.append(i.text)\n",
    "    \n",
    "Product_discription"
   ]
  },
  {
   "cell_type": "code",
   "execution_count": null,
   "metadata": {},
   "outputs": [],
   "source": [
    "len(Product_discription)"
   ]
  },
  {
   "cell_type": "code",
   "execution_count": null,
   "metadata": {},
   "outputs": [],
   "source": [
    "price=driver.find_elements_by_xpath(\"//div[@class='_30jeq3']\")\n",
    "for i in price:\n",
    "    Price_discription.append(i.text)\n",
    "    \n",
    "Price_discription"
   ]
  },
  {
   "cell_type": "code",
   "execution_count": null,
   "metadata": {},
   "outputs": [],
   "source": [
    "disc=driver.find_elements_by_xpath(\"//div[@class='_3Ay6Sb']\")\n",
    "\n",
    "for i in disc:\n",
    "    discount_discription.append(i.text)\n",
    "    \n",
    "discount_discription"
   ]
  },
  {
   "cell_type": "code",
   "execution_count": null,
   "metadata": {},
   "outputs": [],
   "source": [
    "len(discount_discription)"
   ]
  },
  {
   "cell_type": "code",
   "execution_count": null,
   "metadata": {},
   "outputs": [],
   "source": [
    "next_page1=driver.find_element_by_xpath(\"/html/body/div[1]/div/div[3]/div/div[2]/div[12]/div/div/nav/a[4]\")\n",
    "next_page1.click()"
   ]
  },
  {
   "cell_type": "code",
   "execution_count": null,
   "metadata": {},
   "outputs": [],
   "source": [
    "brand_name2=driver.find_elements_by_xpath(\"//div[@class='_2WkVRV']\")\n",
    "\n",
    "for i in brand_name2:\n",
    "    Brand_Name.append(i.text)\n",
    "    \n",
    "Brand_Name"
   ]
  },
  {
   "cell_type": "code",
   "execution_count": null,
   "metadata": {},
   "outputs": [],
   "source": [
    "len(Brand_Name)"
   ]
  },
  {
   "cell_type": "code",
   "execution_count": null,
   "metadata": {},
   "outputs": [],
   "source": [
    "discription2=driver.find_elements_by_xpath(\"//a[@class='IRpwTa']\")\n",
    "\n",
    "for i in discription2:\n",
    "    Product_discription.append(i.text)\n",
    "    \n",
    "Product_discription\n"
   ]
  },
  {
   "cell_type": "code",
   "execution_count": null,
   "metadata": {},
   "outputs": [],
   "source": [
    "prd_disc=Product_discription[0:120]"
   ]
  },
  {
   "cell_type": "code",
   "execution_count": null,
   "metadata": {},
   "outputs": [],
   "source": [
    "prd_disc"
   ]
  },
  {
   "cell_type": "code",
   "execution_count": null,
   "metadata": {},
   "outputs": [],
   "source": [
    "price2=driver.find_elements_by_xpath(\"//div[@class='_30jeq3']\")\n",
    "\n",
    "for i in price2:\n",
    "    Price_discription.append(i.text)\n",
    "    \n",
    "Price_discription\n",
    "prc_d=Price_discription[0:120]\n"
   ]
  },
  {
   "cell_type": "code",
   "execution_count": null,
   "metadata": {},
   "outputs": [],
   "source": [
    "\n",
    "disc2=driver.find_elements_by_xpath(\"//div[@class='_3Ay6Sb']\")\n",
    "\n",
    "for i in disc2:\n",
    "    discount_discription.append(i.text)\n",
    "    \n",
    "discount_discription"
   ]
  },
  {
   "cell_type": "code",
   "execution_count": null,
   "metadata": {},
   "outputs": [],
   "source": [
    "sunglasses=pd.DataFrame({})\n",
    "sunglasses['brand']=Brand_Name\n",
    "sunglasses['discription']=prd_disc\n",
    "sunglasses['final_price']=prc_d\n",
    "\n",
    "\n",
    "sunglasses"
   ]
  },
  {
   "cell_type": "code",
   "execution_count": null,
   "metadata": {},
   "outputs": [],
   "source": [
    "sunglasses.head(100)"
   ]
  },
  {
   "cell_type": "raw",
   "metadata": {},
   "source": [
    "Scrape 100 reviews data from flipkart.com for iphone11 phone. You have to \n",
    "go the link: https://www.flipkart.com/apple-iphone-11-black-64-gb-includes￾earpods-power￾adapter/p/itm0f37c2240b217?pid=MOBFKCTSVZAXUHGR&lid=LSTMOBFKC\n",
    "TSVZAXUHGREPBFGI&marketplace.\n",
    "When you will open the above link you will reach to the below shown webpage.\n",
    "As shown in the above page you have to scrape the tick marked attributes.\n",
    "These are \n",
    "1. Rating \n",
    "2. Review_summary \n",
    "3. Full review\n",
    "You have to scrape this data for first 100 reviews."
   ]
  },
  {
   "cell_type": "code",
   "execution_count": null,
   "metadata": {},
   "outputs": [],
   "source": [
    "url3 = \" https://www.flipkart.com/apple-iphone-11-black-64-gb-includes￾earpods-power￾adapter/p/itm0f37c2240b217?pid=MOBFKCTSVZAXUHGR&lid=LSTMOBFKC\"\n",
    "driver.get(url3)"
   ]
  },
  {
   "cell_type": "code",
   "execution_count": null,
   "metadata": {},
   "outputs": [],
   "source": [
    "all_review=driver.find_element_by_xpath(\"/html/body/div[1]/div/div[3]/div[1]/div[2]/div[9]/div/div/div[5]/div/a/div\")\n",
    "all_review.click()"
   ]
  },
  {
   "cell_type": "code",
   "execution_count": null,
   "metadata": {},
   "outputs": [],
   "source": [
    "ratings=driver.find_elements_by_xpath(\"//div[@class='_3LWZlK _1BLPMq']\")\n",
    "ratings"
   ]
  },
  {
   "cell_type": "code",
   "execution_count": null,
   "metadata": {},
   "outputs": [],
   "source": [
    "\n",
    "Ratings=[]\n",
    "for i in ratings:\n",
    "    Ratings.append(i.text)\n",
    "    \n",
    "Ratings"
   ]
  },
  {
   "cell_type": "code",
   "execution_count": null,
   "metadata": {},
   "outputs": [],
   "source": [
    "review_summary=driver.find_elements_by_xpath(\"//p[@class='_2-N8zT']\")\n",
    "review_summary"
   ]
  },
  {
   "cell_type": "code",
   "execution_count": null,
   "metadata": {},
   "outputs": [],
   "source": [
    "rev_summary=[]\n",
    "for i in review_summary:\n",
    "    rev_summary.append(i.text)\n",
    "    \n",
    "rev_summary"
   ]
  },
  {
   "cell_type": "code",
   "execution_count": null,
   "metadata": {},
   "outputs": [],
   "source": [
    "compl_summary=driver.find_elements_by_xpath(\"//div[@class='t-ZTKy']\")\n",
    "compl_summary"
   ]
  },
  {
   "cell_type": "code",
   "execution_count": null,
   "metadata": {},
   "outputs": [],
   "source": [
    "Full_review=[]\n",
    "for i in compl_summary:\n",
    "    Full_review.append(i.text)\n",
    "    \n",
    "Full_review"
   ]
  },
  {
   "cell_type": "code",
   "execution_count": null,
   "metadata": {},
   "outputs": [],
   "source": [
    "len(Full_review)"
   ]
  },
  {
   "cell_type": "code",
   "execution_count": null,
   "metadata": {},
   "outputs": [],
   "source": [
    "next_page1=driver.find_element_by_xpath(\"/html/body/div[1]/div/div[3]/div/div/div[2]/div[13]/div/div/nav/a[2]\")\n",
    "next_page1.click()"
   ]
  },
  {
   "cell_type": "code",
   "execution_count": null,
   "metadata": {},
   "outputs": [],
   "source": [
    "ratings1=driver.find_elements_by_xpath(\"//div[@class='_3LWZlK _1BLPMq']\")\n",
    "\n",
    "\n",
    "\n",
    "for i in ratings1:\n",
    "    Ratings.append(i.text)\n",
    "    \n",
    "Ratings\n",
    "\n",
    "review_summary1=driver.find_elements_by_xpath(\"//p[@class='_2-N8zT']\")\n",
    "\n",
    "for i in review_summary1:\n",
    "    rev_summary.append(i.text)\n",
    "    \n",
    "rev_summary\n",
    "\n",
    "compl_summary1=driver.find_elements_by_xpath(\"//div[@class='t-ZTKy']\")\n",
    "\n",
    "for i in compl_summary1:\n",
    "    Full_review.append(i.text)\n",
    "    \n",
    "Full_review"
   ]
  },
  {
   "cell_type": "code",
   "execution_count": null,
   "metadata": {},
   "outputs": [],
   "source": [
    "len(rev_summary)"
   ]
  },
  {
   "cell_type": "code",
   "execution_count": null,
   "metadata": {},
   "outputs": [],
   "source": [
    "next_page2=driver.find_element_by_xpath(\"/html/body/div[1]/div/div[3]/div/div/div[2]/div[13]/div/div/nav/a[4]\")\n",
    "next_page2.click()"
   ]
  },
  {
   "cell_type": "code",
   "execution_count": null,
   "metadata": {},
   "outputs": [],
   "source": [
    "ratings1=driver.find_elements_by_xpath(\"//div[@class='_3LWZlK _1BLPMq']\")\n",
    "\n",
    "\n",
    "\n",
    "for i in ratings1:\n",
    "    Ratings.append(i.text)\n",
    "    \n",
    "Ratings\n",
    "\n",
    "review_summary1=driver.find_elements_by_xpath(\"//p[@class='_2-N8zT']\")\n",
    "\n",
    "for i in review_summary1:\n",
    "    rev_summary.append(i.text)\n",
    "    \n",
    "rev_summary\n",
    "\n",
    "compl_summary1=driver.find_elements_by_xpath(\"//div[@class='t-ZTKy']\")\n",
    "\n",
    "for i in compl_summary1:\n",
    "    Full_review.append(i.text)\n",
    "    \n",
    "Full_review"
   ]
  },
  {
   "cell_type": "code",
   "execution_count": null,
   "metadata": {},
   "outputs": [],
   "source": [
    "len(rev_summary)"
   ]
  },
  {
   "cell_type": "code",
   "execution_count": null,
   "metadata": {},
   "outputs": [],
   "source": [
    "next_page1=driver.find_element_by_xpath(\"/html/body/div[1]/div/div[3]/div/div/div[2]/div[13]/div/div/nav/a[5]\")\n",
    "next_page1.click()"
   ]
  },
  {
   "cell_type": "code",
   "execution_count": null,
   "metadata": {},
   "outputs": [],
   "source": [
    "ratings1=driver.find_elements_by_xpath(\"//div[@class='_3LWZlK _1BLPMq']\")\n",
    "\n",
    "\n",
    "\n",
    "for i in ratings1:\n",
    "    Ratings.append(i.text)\n",
    "    \n",
    "Ratings\n",
    "\n",
    "review_summary1=driver.find_elements_by_xpath(\"//p[@class='_2-N8zT']\")\n",
    "\n",
    "for i in review_summary1:\n",
    "    rev_summary.append(i.text)\n",
    "    \n",
    "rev_summary\n",
    "\n",
    "compl_summary1=driver.find_elements_by_xpath(\"//div[@class='t-ZTKy']\")\n",
    "\n",
    "for i in compl_summary1:\n",
    "    Full_review.append(i.text)\n",
    "    \n",
    "Full_review"
   ]
  },
  {
   "cell_type": "code",
   "execution_count": null,
   "metadata": {},
   "outputs": [],
   "source": [
    "next_page1=driver.find_element_by_xpath(\"/html/body/div[1]/div/div[3]/div/div/div[2]/div[13]/div/div/nav/a[6]\")\n",
    "next_page1.click()"
   ]
  },
  {
   "cell_type": "code",
   "execution_count": null,
   "metadata": {},
   "outputs": [],
   "source": [
    "ratings1=driver.find_elements_by_xpath(\"//div[@class='_3LWZlK _1BLPMq']\")\n",
    "\n",
    "\n",
    "\n",
    "for i in ratings1:\n",
    "    Ratings.append(i.text)\n",
    "    \n",
    "Ratings\n",
    "\n",
    "review_summary1=driver.find_elements_by_xpath(\"//p[@class='_2-N8zT']\")\n",
    "\n",
    "for i in review_summary1:\n",
    "    rev_summary.append(i.text)\n",
    "    \n",
    "rev_summary\n",
    "\n",
    "compl_summary1=driver.find_elements_by_xpath(\"//div[@class='t-ZTKy']\")\n",
    "\n",
    "for i in compl_summary1:\n",
    "    Full_review.append(i.text)\n",
    "    \n",
    "Full_review"
   ]
  },
  {
   "cell_type": "code",
   "execution_count": null,
   "metadata": {},
   "outputs": [],
   "source": [
    "next_page1=driver.find_element_by_xpath(\"/html/body/div[1]/div/div[3]/div/div/div[2]/div[13]/div/div/nav/a[7]\")\n",
    "next_page1.click()"
   ]
  },
  {
   "cell_type": "code",
   "execution_count": null,
   "metadata": {},
   "outputs": [],
   "source": [
    "ratings1=driver.find_elements_by_xpath(\"//div[@class='_3LWZlK _1BLPMq']\")\n",
    "\n",
    "\n",
    "\n",
    "for i in ratings1:\n",
    "    Ratings.append(i.text)\n",
    "    \n",
    "Ratings\n",
    "\n",
    "review_summary1=driver.find_elements_by_xpath(\"//p[@class='_2-N8zT']\")\n",
    "\n",
    "for i in review_summary1:\n",
    "    rev_summary.append(i.text)\n",
    "    \n",
    "rev_summary\n",
    "\n",
    "compl_summary1=driver.find_elements_by_xpath(\"//div[@class='t-ZTKy']\")\n",
    "\n",
    "for i in compl_summary1:\n",
    "    Full_review.append(i.text)\n",
    "    \n",
    "Full_review"
   ]
  },
  {
   "cell_type": "code",
   "execution_count": null,
   "metadata": {},
   "outputs": [],
   "source": [
    "next_page1=driver.find_element_by_xpath(\"/html/body/div[1]/div/div[3]/div/div/div[2]/div[13]/div/div/nav/a[8]\")\n",
    "next_page1.click()"
   ]
  },
  {
   "cell_type": "code",
   "execution_count": null,
   "metadata": {},
   "outputs": [],
   "source": [
    "ratings1=driver.find_elements_by_xpath(\"//div[@class='_3LWZlK _1BLPMq']\")\n",
    "\n",
    "\n",
    "\n",
    "for i in ratings1:\n",
    "    Ratings.append(i.text)\n",
    "    \n",
    "Ratings\n",
    "\n",
    "review_summary1=driver.find_elements_by_xpath(\"//p[@class='_2-N8zT']\")\n",
    "\n",
    "for i in review_summary1:\n",
    "    rev_summary.append(i.text)\n",
    "    \n",
    "rev_summary\n",
    "\n",
    "compl_summary1=driver.find_elements_by_xpath(\"//div[@class='t-ZTKy']\")\n",
    "\n",
    "for i in compl_summary1:\n",
    "    Full_review.append(i.text)\n",
    "    \n",
    "Full_review"
   ]
  },
  {
   "cell_type": "code",
   "execution_count": null,
   "metadata": {},
   "outputs": [],
   "source": [
    "next_page1=driver.find_element_by_xpath(\"/html/body/div[1]/div/div[3]/div/div/div[2]/div[13]/div/div/nav/a[9]\")\n",
    "next_page1.click()"
   ]
  },
  {
   "cell_type": "code",
   "execution_count": null,
   "metadata": {},
   "outputs": [],
   "source": [
    "ratings1=driver.find_elements_by_xpath(\"//div[@class='_3LWZlK _1BLPMq']\")\n",
    "\n",
    "\n",
    "\n",
    "for i in ratings1:\n",
    "    Ratings.append(i.text)\n",
    "    \n",
    "Ratings\n",
    "\n",
    "review_summary1=driver.find_elements_by_xpath(\"//p[@class='_2-N8zT']\")\n",
    "\n",
    "for i in review_summary1:\n",
    "    rev_summary.append(i.text)\n",
    "    \n",
    "rev_summary\n",
    "\n",
    "compl_summary1=driver.find_elements_by_xpath(\"//div[@class='t-ZTKy']\")\n",
    "\n",
    "for i in compl_summary1:\n",
    "    Full_review.append(i.text)\n",
    "    \n",
    "Full_review"
   ]
  },
  {
   "cell_type": "code",
   "execution_count": null,
   "metadata": {},
   "outputs": [],
   "source": [
    "next_page1=driver.find_element_by_xpath(\"/html/body/div[1]/div/div[3]/div/div/div[2]/div[13]/div/div/nav/a[10]\")\n",
    "next_page1.click()"
   ]
  },
  {
   "cell_type": "code",
   "execution_count": null,
   "metadata": {},
   "outputs": [],
   "source": [
    "ratings1=driver.find_elements_by_xpath(\"//div[@class='_3LWZlK _1BLPMq']\")\n",
    "\n",
    "\n",
    "\n",
    "for i in ratings1:\n",
    "    Ratings.append(i.text)\n",
    "    \n",
    "Ratings\n",
    "\n",
    "review_summary1=driver.find_elements_by_xpath(\"//p[@class='_2-N8zT']\")\n",
    "\n",
    "for i in review_summary1:\n",
    "    rev_summary.append(i.text)\n",
    "    \n",
    "rev_summary\n",
    "\n",
    "compl_summary1=driver.find_elements_by_xpath(\"//div[@class='t-ZTKy']\")\n",
    "\n",
    "for i in compl_summary1:\n",
    "    Full_review.append(i.text)\n",
    "    \n",
    "Full_review"
   ]
  },
  {
   "cell_type": "code",
   "execution_count": null,
   "metadata": {},
   "outputs": [],
   "source": []
  },
  {
   "cell_type": "code",
   "execution_count": null,
   "metadata": {},
   "outputs": [],
   "source": [
    "next_page1=driver.find_element_by_xpath(\"/html/body/div[1]/div/div[3]/div/div/div[2]/div[13]/div/div/nav/a[11]\")\n",
    "next_page1.click()"
   ]
  },
  {
   "cell_type": "code",
   "execution_count": null,
   "metadata": {},
   "outputs": [],
   "source": [
    "ratings1=driver.find_elements_by_xpath(\"//div[@class='_3LWZlK _1BLPMq']\")\n",
    "\n",
    "\n",
    "\n",
    "for i in ratings1:\n",
    "    Ratings.append(i.text)\n",
    "    \n",
    "Ratings\n",
    "\n",
    "review_summary1=driver.find_elements_by_xpath(\"//p[@class='_2-N8zT']\")\n",
    "\n",
    "for i in review_summary1:\n",
    "    rev_summary.append(i.text)\n",
    "    \n",
    "rev_summary\n",
    "\n",
    "compl_summary1=driver.find_elements_by_xpath(\"//div[@class='t-ZTKy']\")\n",
    "\n",
    "for i in compl_summary1:\n",
    "    Full_review.append(i.text)\n",
    "    \n",
    "Full_review"
   ]
  },
  {
   "cell_type": "code",
   "execution_count": null,
   "metadata": {},
   "outputs": [],
   "source": [
    "len(Full_review),len(rev_summary),len(Ratings)"
   ]
  },
  {
   "cell_type": "code",
   "execution_count": null,
   "metadata": {},
   "outputs": [],
   "source": [
    "iphone_ratings=pd.DataFrame({})\n",
    "iphone_ratings['rating']=Ratings[0:100]\n",
    "iphone_ratings['review']=Full_review[0:100]\n",
    "iphone_ratings['summary']=rev_summary[0:100]\n",
    "iphone_ratings"
   ]
  },
  {
   "cell_type": "raw",
   "metadata": {},
   "source": [
    "Scrape data for first 100 sneakers you find when you visit flipkart.com and \n",
    "search for “sneakers” in the search field.\n",
    "You have to scrape 4 attributes of each sneaker :\n",
    "1. Brand\n",
    "2. Product Description\n",
    "3. Price\n",
    "4. discount %\n"
   ]
  },
  {
   "cell_type": "code",
   "execution_count": null,
   "metadata": {},
   "outputs": [],
   "source": [
    "url2 = \"https://www.flipkart.com/\"\n",
    "driver.get(url2)"
   ]
  },
  {
   "cell_type": "code",
   "execution_count": null,
   "metadata": {},
   "outputs": [],
   "source": [
    "search_bar=driver.find_element_by_xpath(\"/html/body/div[1]/div/div[1]/div[1]/div[2]/div[2]/form/div/div/input\")"
   ]
  },
  {
   "cell_type": "code",
   "execution_count": null,
   "metadata": {},
   "outputs": [],
   "source": [
    "search_bar.send_keys(\"sneakers\")\n"
   ]
  },
  {
   "cell_type": "code",
   "execution_count": null,
   "metadata": {},
   "outputs": [],
   "source": [
    "search_button=driver.find_element_by_xpath(\"//button[@class='L0Z3Pu']\")\n",
    "search_button.click()"
   ]
  },
  {
   "cell_type": "code",
   "execution_count": null,
   "metadata": {},
   "outputs": [],
   "source": [
    "discount_filter=driver.find_element_by_xpath(\"/html/body/div[1]/div/div[3]/div[1]/div[1]/div/div/div/section[7]/div[2]/div/div[1]/div/label/div[1]\")\n",
    "discount_filter.click()"
   ]
  },
  {
   "cell_type": "code",
   "execution_count": null,
   "metadata": {},
   "outputs": [],
   "source": [
    "brand_name=driver.find_elements_by_xpath(\"//div[@class='_2WkVRV']\")\n",
    "\n",
    "Brand_Name=[]\n",
    "for i in brand_name:\n",
    "    Brand_Name.append(i.text)\n",
    "    \n",
    "Brand_Name\n"
   ]
  },
  {
   "cell_type": "code",
   "execution_count": null,
   "metadata": {},
   "outputs": [],
   "source": [
    "\n",
    "discription=driver.find_elements_by_xpath(\"//a[@class='IRpwTa _2-ICcC']\")\n",
    "\n",
    "Product_discription=[]\n",
    "for i in discription:\n",
    "    Product_discription.append(i.text)\n",
    "\n",
    "discription1=driver.find_elements_by_xpath(\"//a[@class='IRpwTa']\")\n",
    "\n",
    "for i in discription1:\n",
    "    Product_discription.append(i.text)\n",
    "    \n",
    "Product_discription"
   ]
  },
  {
   "cell_type": "code",
   "execution_count": null,
   "metadata": {},
   "outputs": [],
   "source": [
    "len(Product_discription)"
   ]
  },
  {
   "cell_type": "code",
   "execution_count": null,
   "metadata": {},
   "outputs": [],
   "source": [
    "price=driver.find_elements_by_xpath(\"//div[@class='_30jeq3']\")\n",
    "\n",
    "Price_discription=[]\n",
    "for i in price:\n",
    "    Price_discription.append(i.text)\n",
    "    \n",
    "Price_discription"
   ]
  },
  {
   "cell_type": "code",
   "execution_count": null,
   "metadata": {},
   "outputs": [],
   "source": [
    "disc=driver.find_elements_by_xpath(\"//div[@class='_3Ay6Sb']\")\n",
    "\n",
    "discount_discription=[]\n",
    "for i in disc:\n",
    "    discount_discription.append(i.text)\n",
    "    \n",
    "discount_discription"
   ]
  },
  {
   "cell_type": "code",
   "execution_count": null,
   "metadata": {},
   "outputs": [],
   "source": [
    "len(discount_discription)"
   ]
  },
  {
   "cell_type": "code",
   "execution_count": null,
   "metadata": {},
   "outputs": [],
   "source": [
    "next_page1=driver.find_element_by_xpath(\"/html/body/div[1]/div/div[3]/div/div[2]/div[12]/div/div/nav/a[2]\")\n",
    "next_page1.click()"
   ]
  },
  {
   "cell_type": "code",
   "execution_count": null,
   "metadata": {},
   "outputs": [],
   "source": [
    "brand_name1=driver.find_elements_by_xpath(\"//div[@class='_2WkVRV']\")\n",
    "\n",
    "for i in brand_name1:\n",
    "    Brand_Name.append(i.text)\n",
    "    \n",
    "Brand_Name\n",
    "\n",
    "discription2=driver.find_elements_by_xpath(\"//a[@class='IRpwTa']\")\n",
    "\n",
    "for i in discription2:\n",
    "    Product_discription.append(i.text)\n",
    "    \n",
    "Product_discription\n",
    "\n",
    "price2=driver.find_elements_by_xpath(\"//div[@class='_30jeq3']\")\n",
    "\n",
    "for i in price2:\n",
    "    Price_discription.append(i.text)\n",
    "    \n",
    "Price_discription\n",
    "\n",
    "disc2=driver.find_elements_by_xpath(\"//div[@class='_3Ay6Sb']\")\n",
    "\n",
    "for i in disc2:\n",
    "    discount_discription.append(i.text)\n",
    "    \n",
    "discount_discription"
   ]
  },
  {
   "cell_type": "code",
   "execution_count": null,
   "metadata": {},
   "outputs": [],
   "source": [
    "len(discount_discription)"
   ]
  },
  {
   "cell_type": "code",
   "execution_count": null,
   "metadata": {},
   "outputs": [],
   "source": [
    "next_page2=driver.find_element_by_xpath(\"/html/body/div[1]/div/div[3]/div/div[2]/div[12]/div/div/nav/a[4]\")\n",
    "next_page2.click()"
   ]
  },
  {
   "cell_type": "code",
   "execution_count": null,
   "metadata": {},
   "outputs": [],
   "source": [
    "brand_name1=driver.find_elements_by_xpath(\"//div[@class='_2WkVRV']\")\n",
    "\n",
    "for i in brand_name1:\n",
    "    Brand_Name.append(i.text)\n",
    "    \n",
    "Brand_Name\n",
    "\n",
    "discription2=driver.find_elements_by_xpath(\"//a[@class='IRpwTa']\")\n",
    "\n",
    "for i in discription2:\n",
    "    Product_discription.append(i.text)\n",
    "    \n",
    "Product_discription\n",
    "\n",
    "price2=driver.find_elements_by_xpath(\"//div[@class='_30jeq3']\")\n",
    "\n",
    "for i in price2:\n",
    "    Price_discription.append(i.text)\n",
    "    \n",
    "Price_discription\n",
    "\n",
    "disc2=driver.find_elements_by_xpath(\"//div[@class='_3Ay6Sb']\")\n",
    "\n",
    "for i in disc2:\n",
    "    discount_discription.append(i.text)\n",
    "    \n",
    "discount_discription"
   ]
  },
  {
   "cell_type": "code",
   "execution_count": null,
   "metadata": {},
   "outputs": [],
   "source": [
    "len(discount_discription),len(Price_discription),len(Product_discription),len(Brand_Name)"
   ]
  },
  {
   "cell_type": "code",
   "execution_count": null,
   "metadata": {},
   "outputs": [],
   "source": [
    "sneekers=pd.DataFrame({})\n",
    "sneekers['bn']=Brand_Name[0:100]\n",
    "sneekers['p_d']=Product_discription[0:100]\n",
    "sneekers['price_d']=Price_discription[0:100]\n",
    "sneekers['discount']=discount_discription[0:100]\n",
    "\n",
    "sneekers"
   ]
  },
  {
   "cell_type": "raw",
   "metadata": {},
   "source": [
    "Go to the link - https://www.myntra.com/shoes\n",
    "Set Price filter to “Rs. 6649 to Rs. 13099” , Color filter to “Black”, as shown in \n",
    "the below image And then scrape First 100 shoes data you get. The data should include “Brand” of \n",
    "the shoes , Short Shoe description, price of the shoe as shown in the below image.\n",
    "Please note that applying the filter and scraping the data , everything should be \n",
    "done through code only and there should not be any manual step."
   ]
  },
  {
   "cell_type": "code",
   "execution_count": null,
   "metadata": {},
   "outputs": [],
   "source": [
    "url5 = \" https://www.myntra.com/shoes\"\n",
    "driver.get(url5)"
   ]
  },
  {
   "cell_type": "code",
   "execution_count": null,
   "metadata": {},
   "outputs": [],
   "source": [
    "price_filter=driver.find_element_by_xpath(\"/html/body/div[2]/div/div[1]/main/div[3]/div[1]/section/div/div[5]/ul/li[3]/label\")\n",
    "price_filter.click()"
   ]
  },
  {
   "cell_type": "code",
   "execution_count": null,
   "metadata": {},
   "outputs": [],
   "source": [
    "colour_filter=driver.find_element_by_xpath(\"/html/body/div[2]/div/div[1]/main/div[3]/div[1]/section/div/div[6]/ul/li[1]/label\")\n",
    "colour_filter.click()"
   ]
  },
  {
   "cell_type": "code",
   "execution_count": null,
   "metadata": {},
   "outputs": [],
   "source": [
    "brand_name1=driver.find_elements_by_xpath(\"//h3[@class='product-brand']\")\n",
    "brand_name1"
   ]
  },
  {
   "cell_type": "code",
   "execution_count": null,
   "metadata": {},
   "outputs": [],
   "source": [
    "Brand_Name=[]\n",
    "for i in brand_name1:\n",
    "    Brand_Name.append(i.text)\n",
    "    \n",
    "Brand_Name"
   ]
  },
  {
   "cell_type": "code",
   "execution_count": null,
   "metadata": {},
   "outputs": [],
   "source": [
    "discri2=driver.find_elements_by_xpath(\"//h4[@class='product-product']\")\n",
    "discri2"
   ]
  },
  {
   "cell_type": "code",
   "execution_count": null,
   "metadata": {},
   "outputs": [],
   "source": [
    "Product_discri=[]\n",
    "for i in discri2:\n",
    "    Product_discri.append(i.text)\n",
    "    \n",
    "Product_discri"
   ]
  },
  {
   "cell_type": "code",
   "execution_count": null,
   "metadata": {},
   "outputs": [],
   "source": [
    "price=driver.find_elements_by_xpath(\"//div[@class='product-price']\")\n",
    "price"
   ]
  },
  {
   "cell_type": "code",
   "execution_count": null,
   "metadata": {
    "scrolled": true
   },
   "outputs": [],
   "source": [
    "Price=[]\n",
    "for i in price:\n",
    "    Price.append(i.text)\n",
    "    \n",
    "Price"
   ]
  },
  {
   "cell_type": "code",
   "execution_count": null,
   "metadata": {},
   "outputs": [],
   "source": [
    "len(Price)"
   ]
  },
  {
   "cell_type": "code",
   "execution_count": null,
   "metadata": {},
   "outputs": [],
   "source": [
    "next_page2=driver.find_element_by_xpath(\"/html/body/div[2]/div/div[1]/main/div[3]/div[2]/div/div[2]/section/div[2]/ul/li[3]\")\n",
    "next_page2.click()"
   ]
  },
  {
   "cell_type": "code",
   "execution_count": null,
   "metadata": {},
   "outputs": [],
   "source": [
    "brand_name1=driver.find_elements_by_xpath(\"//h3[@class='product-brand']\")\n",
    "brand_name1\n",
    "\n",
    "for i in brand_name1:\n",
    "    Brand_Name.append(i.text)\n",
    "    \n",
    "Brand_Name\n",
    "\n",
    "discri2=driver.find_elements_by_xpath(\"//h4[@class='product-product']\")\n",
    "discri2\n",
    "\n",
    "for i in discri2:\n",
    "    Product_discri.append(i.text)\n",
    "    \n",
    "Product_discri\n",
    "\n",
    "price=driver.find_elements_by_xpath(\"//div[@class='product-price']\")\n",
    "price\n",
    "\n",
    "for i in price:\n",
    "    Price.append(i.text)\n",
    "    \n",
    "Price"
   ]
  },
  {
   "cell_type": "code",
   "execution_count": null,
   "metadata": {},
   "outputs": [],
   "source": [
    "len(Price)"
   ]
  },
  {
   "cell_type": "code",
   "execution_count": 315,
   "metadata": {},
   "outputs": [
    {
     "data": {
      "text/html": [
       "<div>\n",
       "<style scoped>\n",
       "    .dataframe tbody tr th:only-of-type {\n",
       "        vertical-align: middle;\n",
       "    }\n",
       "\n",
       "    .dataframe tbody tr th {\n",
       "        vertical-align: top;\n",
       "    }\n",
       "\n",
       "    .dataframe thead th {\n",
       "        text-align: right;\n",
       "    }\n",
       "</style>\n",
       "<table border=\"1\" class=\"dataframe\">\n",
       "  <thead>\n",
       "    <tr style=\"text-align: right;\">\n",
       "      <th></th>\n",
       "      <th>bn</th>\n",
       "      <th>p_d</th>\n",
       "      <th>price_d</th>\n",
       "    </tr>\n",
       "  </thead>\n",
       "  <tbody>\n",
       "    <tr>\n",
       "      <th>0</th>\n",
       "      <td>ALDO</td>\n",
       "      <td>Men Driving Shoes</td>\n",
       "      <td>Rs. 11999</td>\n",
       "    </tr>\n",
       "    <tr>\n",
       "      <th>1</th>\n",
       "      <td>UNDER ARMOUR</td>\n",
       "      <td>Men HOVR Sonic 4 Running Shoes</td>\n",
       "      <td>Rs. 10999</td>\n",
       "    </tr>\n",
       "    <tr>\n",
       "      <th>2</th>\n",
       "      <td>UNDER ARMOUR</td>\n",
       "      <td>Men HOVR Sonic 4 Colorshift</td>\n",
       "      <td>Rs. 10999</td>\n",
       "    </tr>\n",
       "    <tr>\n",
       "      <th>3</th>\n",
       "      <td>Puma</td>\n",
       "      <td>Men Velocity Nitro Running</td>\n",
       "      <td>Rs. 10999</td>\n",
       "    </tr>\n",
       "    <tr>\n",
       "      <th>4</th>\n",
       "      <td>UNDER ARMOUR</td>\n",
       "      <td>Women HOVR Sonic 4 FnRn</td>\n",
       "      <td>Rs. 10999</td>\n",
       "    </tr>\n",
       "    <tr>\n",
       "      <th>...</th>\n",
       "      <td>...</td>\n",
       "      <td>...</td>\n",
       "      <td>...</td>\n",
       "    </tr>\n",
       "    <tr>\n",
       "      <th>95</th>\n",
       "      <td>Birkenstock</td>\n",
       "      <td>Unisex London Patent Leather Clogs</td>\n",
       "      <td>Rs. 11990</td>\n",
       "    </tr>\n",
       "    <tr>\n",
       "      <th>96</th>\n",
       "      <td>Nike</td>\n",
       "      <td>LEBRON XVIII Basketball Shoes</td>\n",
       "      <td>Rs. 10557Rs. 17595(40% OFF)</td>\n",
       "    </tr>\n",
       "    <tr>\n",
       "      <th>97</th>\n",
       "      <td>ADIDAS</td>\n",
       "      <td>Ultraboost DNA Running Shoes</td>\n",
       "      <td>Rs. 11049Rs. 16999(35% OFF)</td>\n",
       "    </tr>\n",
       "    <tr>\n",
       "      <th>98</th>\n",
       "      <td>ASICS</td>\n",
       "      <td>Men Running Shoes</td>\n",
       "      <td>Rs. 11999</td>\n",
       "    </tr>\n",
       "    <tr>\n",
       "      <th>99</th>\n",
       "      <td>Nike</td>\n",
       "      <td>Unisex LEBRON XVIII LOW Shoes</td>\n",
       "      <td>Rs. 14495</td>\n",
       "    </tr>\n",
       "  </tbody>\n",
       "</table>\n",
       "<p>100 rows × 3 columns</p>\n",
       "</div>"
      ],
      "text/plain": [
       "              bn                                 p_d  \\\n",
       "0           ALDO                   Men Driving Shoes   \n",
       "1   UNDER ARMOUR      Men HOVR Sonic 4 Running Shoes   \n",
       "2   UNDER ARMOUR         Men HOVR Sonic 4 Colorshift   \n",
       "3           Puma          Men Velocity Nitro Running   \n",
       "4   UNDER ARMOUR             Women HOVR Sonic 4 FnRn   \n",
       "..           ...                                 ...   \n",
       "95   Birkenstock  Unisex London Patent Leather Clogs   \n",
       "96          Nike       LEBRON XVIII Basketball Shoes   \n",
       "97        ADIDAS        Ultraboost DNA Running Shoes   \n",
       "98         ASICS                   Men Running Shoes   \n",
       "99          Nike       Unisex LEBRON XVIII LOW Shoes   \n",
       "\n",
       "                        price_d  \n",
       "0                     Rs. 11999  \n",
       "1                     Rs. 10999  \n",
       "2                     Rs. 10999  \n",
       "3                     Rs. 10999  \n",
       "4                     Rs. 10999  \n",
       "..                          ...  \n",
       "95                    Rs. 11990  \n",
       "96  Rs. 10557Rs. 17595(40% OFF)  \n",
       "97  Rs. 11049Rs. 16999(35% OFF)  \n",
       "98                    Rs. 11999  \n",
       "99                    Rs. 14495  \n",
       "\n",
       "[100 rows x 3 columns]"
      ]
     },
     "execution_count": 315,
     "metadata": {},
     "output_type": "execute_result"
    }
   ],
   "source": [
    "shoes=pd.DataFrame({})\n",
    "shoes['bn']=Brand_Name\n",
    "shoes['p_d']=Product_discri\n",
    "shoes['price_d']=Price\n",
    "\n"
   ]
  },
  {
   "cell_type": "raw",
   "metadata": {},
   "source": [
    "Go to webpage https://www.amazon.in/\n",
    " \n",
    "Enter “Laptop” in the search field and then click the search icon.\n",
    " \n",
    "Then set CPU Type filter to “Intel Core i7” and “Intel Core i9” as shown in the \n",
    "below image:\n",
    "    After setting the filters scrape first 10 laptops data. You have to scrape 3 attributes \n",
    "for each laptop:\n",
    "1. title\n",
    "2. Ratings\n",
    "3. Price\n"
   ]
  },
  {
   "cell_type": "code",
   "execution_count": 360,
   "metadata": {},
   "outputs": [],
   "source": [
    "url6 = \" https://www.amazon.in/\"\n",
    "driver.get(url6)"
   ]
  },
  {
   "cell_type": "code",
   "execution_count": 361,
   "metadata": {},
   "outputs": [
    {
     "data": {
      "text/plain": [
       "<selenium.webdriver.remote.webelement.WebElement (session=\"d0438f4520f520d89f9b55cb46fe6735\", element=\"a3b8092a-d30f-4580-acb5-82ff8bef618b\")>"
      ]
     },
     "execution_count": 361,
     "metadata": {},
     "output_type": "execute_result"
    }
   ],
   "source": [
    "search_button=driver.find_element_by_id('twotabsearchtextbox')\n",
    "search_button"
   ]
  },
  {
   "cell_type": "code",
   "execution_count": 362,
   "metadata": {},
   "outputs": [],
   "source": [
    "search_button.send_keys(\"laptop\")"
   ]
  },
  {
   "cell_type": "code",
   "execution_count": 363,
   "metadata": {},
   "outputs": [],
   "source": [
    "search=driver.find_element_by_id('nav-search-submit-button')\n",
    "search.click()"
   ]
  },
  {
   "cell_type": "code",
   "execution_count": 368,
   "metadata": {},
   "outputs": [],
   "source": [
    "filter1=driver.find_element_by_xpath(\"/html/body/div[1]/div[2]/div[1]/div/div[2]/div/div[3]/span/div[1]/span/div/div/div[6]/ul[7]/li[26]/span/a/div\")\n",
    "filter1.click()"
   ]
  },
  {
   "cell_type": "code",
   "execution_count": 369,
   "metadata": {},
   "outputs": [],
   "source": [
    "filter2=driver.find_element_by_xpath(\"/html/body/div[1]/div[2]/div[1]/div/div[2]/div/div[3]/span/div[1]/span/div/div/div[5]/ul[7]/li[28]/span/a/div/label/i\")\n",
    "filter2.click()"
   ]
  },
  {
   "cell_type": "code",
   "execution_count": 370,
   "metadata": {},
   "outputs": [
    {
     "data": {
      "text/plain": [
       "[<selenium.webdriver.remote.webelement.WebElement (session=\"d0438f4520f520d89f9b55cb46fe6735\", element=\"ce79460c-3199-4475-a5ff-989160cd734f\")>,\n",
       " <selenium.webdriver.remote.webelement.WebElement (session=\"d0438f4520f520d89f9b55cb46fe6735\", element=\"21156b6e-4879-4e5e-b786-565e4927f4aa\")>,\n",
       " <selenium.webdriver.remote.webelement.WebElement (session=\"d0438f4520f520d89f9b55cb46fe6735\", element=\"7f2ab48f-a6b4-49af-8ad3-80247fd4514f\")>,\n",
       " <selenium.webdriver.remote.webelement.WebElement (session=\"d0438f4520f520d89f9b55cb46fe6735\", element=\"7dc67bf0-98c7-41bf-8fac-0c89a5a8243b\")>,\n",
       " <selenium.webdriver.remote.webelement.WebElement (session=\"d0438f4520f520d89f9b55cb46fe6735\", element=\"1dbf91af-c4a6-46a2-81a0-f94c4309ae5e\")>,\n",
       " <selenium.webdriver.remote.webelement.WebElement (session=\"d0438f4520f520d89f9b55cb46fe6735\", element=\"108ed157-5fac-42d9-ac3e-3a047e948892\")>,\n",
       " <selenium.webdriver.remote.webelement.WebElement (session=\"d0438f4520f520d89f9b55cb46fe6735\", element=\"f41ccff7-9e4b-4c96-8f37-12f28c31c7a1\")>,\n",
       " <selenium.webdriver.remote.webelement.WebElement (session=\"d0438f4520f520d89f9b55cb46fe6735\", element=\"df03a8c0-e1aa-4572-9533-92767220b90f\")>,\n",
       " <selenium.webdriver.remote.webelement.WebElement (session=\"d0438f4520f520d89f9b55cb46fe6735\", element=\"cef976df-018f-454d-8a01-3f96ad74c143\")>,\n",
       " <selenium.webdriver.remote.webelement.WebElement (session=\"d0438f4520f520d89f9b55cb46fe6735\", element=\"ac1c7e67-d036-4d92-8f48-6b084ad2f996\")>,\n",
       " <selenium.webdriver.remote.webelement.WebElement (session=\"d0438f4520f520d89f9b55cb46fe6735\", element=\"e3738f6d-c687-4403-9a2a-677af7931673\")>,\n",
       " <selenium.webdriver.remote.webelement.WebElement (session=\"d0438f4520f520d89f9b55cb46fe6735\", element=\"7fc933a4-47e3-4954-a90c-61d772bcbc3b\")>,\n",
       " <selenium.webdriver.remote.webelement.WebElement (session=\"d0438f4520f520d89f9b55cb46fe6735\", element=\"ac5ad7fe-8ff3-440b-99be-e7a3b2e874ad\")>,\n",
       " <selenium.webdriver.remote.webelement.WebElement (session=\"d0438f4520f520d89f9b55cb46fe6735\", element=\"d0f41033-adc6-47d7-80d7-896cc5d7a267\")>,\n",
       " <selenium.webdriver.remote.webelement.WebElement (session=\"d0438f4520f520d89f9b55cb46fe6735\", element=\"71c2e5a7-40a7-4ab1-aa80-2edd83a3bc2f\")>,\n",
       " <selenium.webdriver.remote.webelement.WebElement (session=\"d0438f4520f520d89f9b55cb46fe6735\", element=\"2867deea-0142-4e0c-b359-b93d09614040\")>,\n",
       " <selenium.webdriver.remote.webelement.WebElement (session=\"d0438f4520f520d89f9b55cb46fe6735\", element=\"9b8aca0a-5dc9-4444-a113-92fa1f6e53e6\")>,\n",
       " <selenium.webdriver.remote.webelement.WebElement (session=\"d0438f4520f520d89f9b55cb46fe6735\", element=\"98f2d8f1-5bdf-493e-99c3-db683fe7b985\")>,\n",
       " <selenium.webdriver.remote.webelement.WebElement (session=\"d0438f4520f520d89f9b55cb46fe6735\", element=\"5cd2a7b2-9b05-4288-bbc2-359cf6abe332\")>,\n",
       " <selenium.webdriver.remote.webelement.WebElement (session=\"d0438f4520f520d89f9b55cb46fe6735\", element=\"06382b53-b62f-4b22-9714-beb1a2e92425\")>,\n",
       " <selenium.webdriver.remote.webelement.WebElement (session=\"d0438f4520f520d89f9b55cb46fe6735\", element=\"7ad0c791-ae2e-4e7d-be66-c7c1a74c842f\")>,\n",
       " <selenium.webdriver.remote.webelement.WebElement (session=\"d0438f4520f520d89f9b55cb46fe6735\", element=\"4026e315-50a0-4204-9b28-6d55c8c5a564\")>,\n",
       " <selenium.webdriver.remote.webelement.WebElement (session=\"d0438f4520f520d89f9b55cb46fe6735\", element=\"7865a4e9-1732-4361-85e9-80edf7e2a5fe\")>,\n",
       " <selenium.webdriver.remote.webelement.WebElement (session=\"d0438f4520f520d89f9b55cb46fe6735\", element=\"35956f11-db1f-49e6-bbbc-da259d7115d1\")>,\n",
       " <selenium.webdriver.remote.webelement.WebElement (session=\"d0438f4520f520d89f9b55cb46fe6735\", element=\"9608290c-15bc-4f69-bc74-d90ec23c4dba\")>,\n",
       " <selenium.webdriver.remote.webelement.WebElement (session=\"d0438f4520f520d89f9b55cb46fe6735\", element=\"37cc426d-cb92-44c8-9833-e0d2c443c35e\")>,\n",
       " <selenium.webdriver.remote.webelement.WebElement (session=\"d0438f4520f520d89f9b55cb46fe6735\", element=\"5d289a52-e77e-4af0-99ac-099d15866c10\")>]"
      ]
     },
     "execution_count": 370,
     "metadata": {},
     "output_type": "execute_result"
    }
   ],
   "source": [
    "title=driver.find_elements_by_xpath(\"//h2[@class='a-size-mini a-spacing-none a-color-base s-line-clamp-2']\")\n",
    "title\n"
   ]
  },
  {
   "cell_type": "code",
   "execution_count": 371,
   "metadata": {
    "scrolled": true
   },
   "outputs": [
    {
     "data": {
      "text/plain": [
       "['HP Envy 11th Gen Core i7 Processor 13.3-inch (33.78 cms) FHD Touchscreen Laptop (16GB/1TB SSD/Win 10/NVIDIA MX450 2GB/Natural Silver/1.3 kg), 13-ba1018TX',\n",
       " 'Lenovo Yoga 7 11th Gen Intel Core i7-1165G7 14\" (35.56cm) FHD IPS 2-in-1 Touchscreen Laptop (16GB/512GB SSD/Windows 10/MS Office/Lenovo Digital Pen/Fingerprint Reader/Slate Grey/1.43Kg), 82BH004HIN',\n",
       " 'Mi Notebook Horizon Edition 14 Intel Core i7-10510U 10th Gen 14-inch (35.56 cms) Thin and Light Laptop(8GB/512GB SSD/Windows 10/Nvidia MX350 2GB Graphics/Grey/1.35Kg), XMA1904-AF+Webcam',\n",
       " 'HP Pavilion (2021) Thin & Light 11th Gen Core i7 Laptop, 16 GB RAM, 1TB SSD, Iris Xe Graphics, 14\" (35.56cms) FHD Screen, Windows 10, MS Office, Backlit Keyboard (14-dv0058TU)',\n",
       " 'MSI GF65 Thin, Intel i7-10750H, 15.6\" FHD (39.6 cm) IPS-Level 144Hz Panel Laptop (16GB/512GB NVMe SSD/Windows 10 Home/Nvidia GTX1660 Ti 6GB GDDR6/Black/1.86Kg), 10SDR-1280IN',\n",
       " 'ASUS TUF Gaming F15 (2020), 15.6-inch (39.62 cms) FHD 144Hz, Intel Core i7-10870H 10th Gen, NVIDIA GeForce GTX 1650 4GB Graphics, Gaming Laptop(8GB/512GB SSDWindows 10/Gray/2.3 Kg), FX566LH-HN255T',\n",
       " 'HP Envy 11th Gen Core i7 Processor 13.3-inch (33.78 cms) FHD Touchscreen Laptop (16GB/1TB SSD/Win 10/NVIDIA MX450 2GB/Natural Silver/1.3 kg), 13-ba1018TX',\n",
       " 'ASUS VivoBook S S14 Intel Core i7-1165G7 11th Gen, 14-inch FHD Thin and Light Laptop (8GB RAM/512GB SSD + 32GB Optane Memory/Windows 10/Office 2019/Iris X Graphics- Indie Black/1.4 Kg), S433EA-AM701TS',\n",
       " 'Life Digital Laptop 15.6-inch (39.62 cms) (Intel Core i7, 4GB RAM, 256GB SSD, Windows 10), ZED AIR CX7',\n",
       " 'Lenovo IdeaPad Gaming 3 Intel Core i7 10th Gen 15.6\" FHD IPS 250Nits Gaming Laptop (8GB/512GB SSD/Win10/NVIDIA GTX 1650 4GB GDDR6 Graphics/120Hz/Onyx Black/2.2Kg), 81Y4019EIN',\n",
       " 'HP Pavilion 13(2021) 11th Gen Intel Core i7 Laptop, 16GB RAM, 1TB SSD, 13.3-inch(33.8 cm) FHD Screen, Win 10, MS Office, Ceramic White, 1.24 Kg (13-bb0078TU)',\n",
       " 'ASUS TUF Dash F15 (2021), 15.6\" (39.62 cms) FHD 144Hz, Intel Core i7-11370H 11th Gen, RTX 3050 Ti 4GB Graphics, Gaming Laptop (16GB/1TB SSD/Office 2019/Windows 10/Eclipse Gray/2 kg), FX516PE-HN088TS',\n",
       " 'MSI GF75 Thin, Intel i7-10750H, 17.3\" (43.9 cm) FHD IPS-Level 144Hz Panel Laptop (8GB/512GB NVMe SSD/Windows 10 Home/Nvidia GTX1650 4GB GDDR6/Black/2.2Kg), 10SCXR-654IN',\n",
       " 'HP Pavilion x360 (2021) 14\" (35.56cms) FHD Touchscreen Laptop, 11th Gen Core i7, 8 GB RAM, 512GB SSD, 2-in-1 Convertible, Windows 10, MS Office, Finger Print Reader (14-dw1040TU)',\n",
       " 'Acer Swift 5 14\" (35.56cms) Full HD IPS Display with Touchscreen Ultra Thin and Light Notebook (Intel i7 - 11th Gen/16GB RAM/1TB SSD/Win10/Intel Iris Xe Graphics/1.05 Kg/Mist Green), SF514-55TA',\n",
       " 'ASUS ZenBook 13 OLED (2021) Intel Core i7-1165G7 11th Gen 14\" (35.56cms) FHD Thin and Light Laptop (16GB/1TB SSD/Windows 10/Office 2019/Intel Iris Xᵉ Graphics/Lilac Mist/1.14 kg), UX325EA-KG701TS',\n",
       " 'HP Pavilion Gaming 10th Gen Intel Core i7 Processor 15.6-inch FHD Gaming Laptop (16GB/512GB SSD + 32GB Intel Optane/Windows 10/NVIDIA 1650Ti 4GB/Shadow Black), 15-dk1509TX',\n",
       " '(Renewed) Fujitsu UH-X 11th Gen Intel Core i7 13.3” (33.78cm) FHD IPS 400Nits 2-in1 Touch Convertible Laptop (16GB/1TB SSD/Win10/Office/Iris Xe Graphics/Backlit Kb/Black/997gms), 4ZR1D71993',\n",
       " 'Lenovo Legion Y540 9th Gen Intel Core i7-9750HF 15.6\" (39.63cm) FHD IPS Gaming Laptop (8GB/1TB + 256GB SSD/Windows 10/NVIDIA GTX 1650 4GB/60Hz Refresh Display/Raven Black/2.3Kg), 81SY00U7IN',\n",
       " 'ASUS VivoBook S S15 (2021), 15.6-inch (39.62 cms) FHD Intel Core i7-1165G7 11th Gen, Thin and Light Laptop (8GB/512GB SSD/Office 2019/Windows 10/2GB NVIDIA MX350 Graphics/Silver/1.8 kg) S532EQ-BQ702TS',\n",
       " 'Lenovo Yoga 7 11th Gen Intel Core i7-1165G7 14\" (35.56cm) FHD IPS 2-in-1 Touchscreen Laptop (16GB/512GB SSD/Windows 10/MS Office/Lenovo Digital Pen/Fingerprint Reader/Slate Grey/1.43Kg), 82BH004HIN',\n",
       " 'Dell Inspiron 5409 14.0\" (35.56cms)FHD WVA AG Display 11th Gen Laptop (i7-1165G7 / 8 GB / 512 SSD / Nvidia MX 350 2GB Graphics / 1 Yr NBD / Win 10 + MS Office H&S / Pebble) D560374WIN9PE',\n",
       " 'Lenovo IdeaPad Flex 5 11th Gen Intel Core i7 14\"(35.56cm) FHD IPS 2-in-1 Touchscreen Laptop(16GB/512GB SSD/Windows 10/MS Office/Lenovo Digital Pen/Fingerprint Reader/Graphite Grey/1.5Kg), 82HS0092IN',\n",
       " 'ASUS ZenBook 14 (2020) Intel Core i7-1165G7 11th Gen 14\" (35.56cms) FHD T&L Laptop (16GB RAM/512GB NVMe SSD/Windows 10/MS Office 2019/Intel Iris Xáµ‰ Graphics/Pine Grey/1.17 kg), UX425EA-BM701TS',\n",
       " 'Lenovo Legion 5 10th Gen Intel Core i7-10750H 15.6\" (39.63cm) FHD IPS Gaming Laptop (16GB/512GB SSD/Windows 10/NVIDIA GTX 1650 4GB/120Hz Refresh Display/Phantom Black/2.3Kg), 82AU00PNIN',\n",
       " '2019 Apple MacBook Pro (16-inch/40.65 cm, 16GB RAM, 1TB Storage, 2.3GHz 9th Gen Intel Core i9) - Silver',\n",
       " 'Lenovo Yoga Slim 7i Carbon i7 13.3\" QHD Thin and Light Laptop (16GB/1TB SSD/Win 10/Office/Moon White/0.96 Kg) 82EV003WIN + Lenovo B530 15.6 inch Urban Backpack + Lenovo 600 Bluetooth Silent Mouse']"
      ]
     },
     "execution_count": 371,
     "metadata": {},
     "output_type": "execute_result"
    }
   ],
   "source": [
    "Product_title=[]\n",
    "for i in title:\n",
    "    Product_title.append(i.text)\n",
    "    \n",
    "Product_title"
   ]
  },
  {
   "cell_type": "code",
   "execution_count": 373,
   "metadata": {},
   "outputs": [
    {
     "data": {
      "text/plain": [
       "27"
      ]
     },
     "execution_count": 373,
     "metadata": {},
     "output_type": "execute_result"
    }
   ],
   "source": [
    "len(Product_title)"
   ]
  },
  {
   "cell_type": "code",
   "execution_count": 386,
   "metadata": {},
   "outputs": [
    {
     "data": {
      "text/plain": [
       "[]"
      ]
     },
     "execution_count": 386,
     "metadata": {},
     "output_type": "execute_result"
    }
   ],
   "source": [
    "rating=driver.find_elements_by_xpath(\"//span[@class='a-icon a-icon-star-small a-star-small-4 aok-align-bottom']\")\n",
    "rating"
   ]
  },
  {
   "cell_type": "code",
   "execution_count": 385,
   "metadata": {},
   "outputs": [
    {
     "data": {
      "text/plain": [
       "['',\n",
       " '',\n",
       " '',\n",
       " '',\n",
       " '',\n",
       " '',\n",
       " '',\n",
       " '',\n",
       " '',\n",
       " '',\n",
       " '',\n",
       " '',\n",
       " '',\n",
       " '',\n",
       " '',\n",
       " '',\n",
       " '',\n",
       " '',\n",
       " '',\n",
       " '',\n",
       " '',\n",
       " '',\n",
       " '',\n",
       " '',\n",
       " '',\n",
       " '',\n",
       " '',\n",
       " '',\n",
       " '',\n",
       " '',\n",
       " '',\n",
       " '',\n",
       " '']"
      ]
     },
     "execution_count": 385,
     "metadata": {},
     "output_type": "execute_result"
    }
   ],
   "source": [
    "Product_rating=[]\n",
    "for i in rating:\n",
    "    Product_rating.append(i.text)\n",
    "    \n",
    "Product_rating"
   ]
  },
  {
   "cell_type": "code",
   "execution_count": 387,
   "metadata": {},
   "outputs": [
    {
     "data": {
      "text/plain": [
       "[<selenium.webdriver.remote.webelement.WebElement (session=\"d0438f4520f520d89f9b55cb46fe6735\", element=\"c8663a31-91b2-4768-81a6-6f1be2cd4fcb\")>,\n",
       " <selenium.webdriver.remote.webelement.WebElement (session=\"d0438f4520f520d89f9b55cb46fe6735\", element=\"681315be-0731-4aa2-be3e-7b8fca1dee4f\")>,\n",
       " <selenium.webdriver.remote.webelement.WebElement (session=\"d0438f4520f520d89f9b55cb46fe6735\", element=\"ef86521c-cfb8-407b-b18a-a33da2063ca7\")>,\n",
       " <selenium.webdriver.remote.webelement.WebElement (session=\"d0438f4520f520d89f9b55cb46fe6735\", element=\"49f9eaba-629d-4244-8422-564158d2b379\")>,\n",
       " <selenium.webdriver.remote.webelement.WebElement (session=\"d0438f4520f520d89f9b55cb46fe6735\", element=\"b630b620-3a99-4c46-a4a3-06c3a210af23\")>,\n",
       " <selenium.webdriver.remote.webelement.WebElement (session=\"d0438f4520f520d89f9b55cb46fe6735\", element=\"76bb3aab-b9a4-4fc4-bb53-dbbee1b7a4ad\")>,\n",
       " <selenium.webdriver.remote.webelement.WebElement (session=\"d0438f4520f520d89f9b55cb46fe6735\", element=\"8115fde4-3e4a-47e9-8cfb-0c87b13f8c81\")>,\n",
       " <selenium.webdriver.remote.webelement.WebElement (session=\"d0438f4520f520d89f9b55cb46fe6735\", element=\"7ed6c00e-2ed8-4276-b977-478ee47ccc09\")>,\n",
       " <selenium.webdriver.remote.webelement.WebElement (session=\"d0438f4520f520d89f9b55cb46fe6735\", element=\"be101c1c-99d3-49c7-b41f-d8c67e91b0e7\")>,\n",
       " <selenium.webdriver.remote.webelement.WebElement (session=\"d0438f4520f520d89f9b55cb46fe6735\", element=\"2f7ea32a-433b-4721-8f10-45fe0868613d\")>,\n",
       " <selenium.webdriver.remote.webelement.WebElement (session=\"d0438f4520f520d89f9b55cb46fe6735\", element=\"6fe1693b-cd23-4b1a-a033-adc8bb2a413f\")>,\n",
       " <selenium.webdriver.remote.webelement.WebElement (session=\"d0438f4520f520d89f9b55cb46fe6735\", element=\"676ed03a-962c-4dff-913d-ef1f36dc1456\")>,\n",
       " <selenium.webdriver.remote.webelement.WebElement (session=\"d0438f4520f520d89f9b55cb46fe6735\", element=\"30802063-788f-489e-a52c-ad34e8507155\")>,\n",
       " <selenium.webdriver.remote.webelement.WebElement (session=\"d0438f4520f520d89f9b55cb46fe6735\", element=\"ac61579e-e6c9-4cb6-8a63-f2e69c74fb10\")>,\n",
       " <selenium.webdriver.remote.webelement.WebElement (session=\"d0438f4520f520d89f9b55cb46fe6735\", element=\"b5be4099-9841-4ac6-9ac9-c7900b1db560\")>,\n",
       " <selenium.webdriver.remote.webelement.WebElement (session=\"d0438f4520f520d89f9b55cb46fe6735\", element=\"0a364136-2086-48c5-8e9d-746c9e880d18\")>,\n",
       " <selenium.webdriver.remote.webelement.WebElement (session=\"d0438f4520f520d89f9b55cb46fe6735\", element=\"52b0731d-30d5-4d93-84bd-45eeefbb782e\")>,\n",
       " <selenium.webdriver.remote.webelement.WebElement (session=\"d0438f4520f520d89f9b55cb46fe6735\", element=\"28e2a5f5-011d-4788-878e-c36a2b6a3818\")>,\n",
       " <selenium.webdriver.remote.webelement.WebElement (session=\"d0438f4520f520d89f9b55cb46fe6735\", element=\"5be771cc-e7a6-4009-b72a-8ec8853b649c\")>,\n",
       " <selenium.webdriver.remote.webelement.WebElement (session=\"d0438f4520f520d89f9b55cb46fe6735\", element=\"84795f80-6d21-4162-b975-3b11cecb06e7\")>,\n",
       " <selenium.webdriver.remote.webelement.WebElement (session=\"d0438f4520f520d89f9b55cb46fe6735\", element=\"83e77617-dc3b-49a6-be02-751f0cdd88a6\")>,\n",
       " <selenium.webdriver.remote.webelement.WebElement (session=\"d0438f4520f520d89f9b55cb46fe6735\", element=\"3c11ce61-23a0-4742-8b95-354ce8568a9d\")>,\n",
       " <selenium.webdriver.remote.webelement.WebElement (session=\"d0438f4520f520d89f9b55cb46fe6735\", element=\"58cae613-b2d1-4f3a-b77c-2c72d1bd2ceb\")>,\n",
       " <selenium.webdriver.remote.webelement.WebElement (session=\"d0438f4520f520d89f9b55cb46fe6735\", element=\"34696490-0e4b-4a2a-a01b-c2ed064a5219\")>,\n",
       " <selenium.webdriver.remote.webelement.WebElement (session=\"d0438f4520f520d89f9b55cb46fe6735\", element=\"2eaaa4b5-94cf-4ebd-970e-a5963cd46745\")>]"
      ]
     },
     "execution_count": 387,
     "metadata": {},
     "output_type": "execute_result"
    }
   ],
   "source": [
    "price=driver.find_elements_by_xpath(\"//span[@class='a-price-whole']\")\n",
    "price"
   ]
  },
  {
   "cell_type": "code",
   "execution_count": 388,
   "metadata": {},
   "outputs": [
    {
     "data": {
      "text/plain": [
       "['1,09,990',\n",
       " '1,03,100',\n",
       " '59,490',\n",
       " '84,990',\n",
       " '81,990',\n",
       " '71,990',\n",
       " '1,09,990',\n",
       " '77,990',\n",
       " '34,990',\n",
       " '73,990',\n",
       " '95,586',\n",
       " '1,07,990',\n",
       " '74,990',\n",
       " '89,500',\n",
       " '94,999',\n",
       " '1,02,990',\n",
       " '86,990',\n",
       " '82,072',\n",
       " '83,595',\n",
       " '1,03,100',\n",
       " '90,485',\n",
       " '99,490',\n",
       " '82,990',\n",
       " '2,15,990',\n",
       " '1,21,021']"
      ]
     },
     "execution_count": 388,
     "metadata": {},
     "output_type": "execute_result"
    }
   ],
   "source": [
    "Price=[]\n",
    "for i in price:\n",
    "    Price.append(i.text)\n",
    "    \n",
    "Price"
   ]
  },
  {
   "cell_type": "code",
   "execution_count": 390,
   "metadata": {},
   "outputs": [
    {
     "data": {
      "text/html": [
       "<div>\n",
       "<style scoped>\n",
       "    .dataframe tbody tr th:only-of-type {\n",
       "        vertical-align: middle;\n",
       "    }\n",
       "\n",
       "    .dataframe tbody tr th {\n",
       "        vertical-align: top;\n",
       "    }\n",
       "\n",
       "    .dataframe thead th {\n",
       "        text-align: right;\n",
       "    }\n",
       "</style>\n",
       "<table border=\"1\" class=\"dataframe\">\n",
       "  <thead>\n",
       "    <tr style=\"text-align: right;\">\n",
       "      <th></th>\n",
       "      <th>bn</th>\n",
       "      <th>p_d</th>\n",
       "      <th>price_d</th>\n",
       "    </tr>\n",
       "  </thead>\n",
       "  <tbody>\n",
       "    <tr>\n",
       "      <th>0</th>\n",
       "      <td>HP Envy 11th Gen Core i7 Processor 13.3-inch (...</td>\n",
       "      <td></td>\n",
       "      <td>1,09,990</td>\n",
       "    </tr>\n",
       "    <tr>\n",
       "      <th>1</th>\n",
       "      <td>Lenovo Yoga 7 11th Gen Intel Core i7-1165G7 14...</td>\n",
       "      <td></td>\n",
       "      <td>1,03,100</td>\n",
       "    </tr>\n",
       "    <tr>\n",
       "      <th>2</th>\n",
       "      <td>Mi Notebook Horizon Edition 14 Intel Core i7-1...</td>\n",
       "      <td></td>\n",
       "      <td>59,490</td>\n",
       "    </tr>\n",
       "    <tr>\n",
       "      <th>3</th>\n",
       "      <td>HP Pavilion (2021) Thin &amp; Light 11th Gen Core ...</td>\n",
       "      <td></td>\n",
       "      <td>84,990</td>\n",
       "    </tr>\n",
       "    <tr>\n",
       "      <th>4</th>\n",
       "      <td>MSI GF65 Thin, Intel i7-10750H, 15.6\" FHD (39....</td>\n",
       "      <td></td>\n",
       "      <td>81,990</td>\n",
       "    </tr>\n",
       "    <tr>\n",
       "      <th>5</th>\n",
       "      <td>ASUS TUF Gaming F15 (2020), 15.6-inch (39.62 c...</td>\n",
       "      <td></td>\n",
       "      <td>71,990</td>\n",
       "    </tr>\n",
       "    <tr>\n",
       "      <th>6</th>\n",
       "      <td>HP Envy 11th Gen Core i7 Processor 13.3-inch (...</td>\n",
       "      <td></td>\n",
       "      <td>1,09,990</td>\n",
       "    </tr>\n",
       "    <tr>\n",
       "      <th>7</th>\n",
       "      <td>ASUS VivoBook S S14 Intel Core i7-1165G7 11th ...</td>\n",
       "      <td></td>\n",
       "      <td>77,990</td>\n",
       "    </tr>\n",
       "    <tr>\n",
       "      <th>8</th>\n",
       "      <td>Life Digital Laptop 15.6-inch (39.62 cms) (Int...</td>\n",
       "      <td></td>\n",
       "      <td>34,990</td>\n",
       "    </tr>\n",
       "    <tr>\n",
       "      <th>9</th>\n",
       "      <td>Lenovo IdeaPad Gaming 3 Intel Core i7 10th Gen...</td>\n",
       "      <td></td>\n",
       "      <td>73,990</td>\n",
       "    </tr>\n",
       "  </tbody>\n",
       "</table>\n",
       "</div>"
      ],
      "text/plain": [
       "                                                  bn p_d   price_d\n",
       "0  HP Envy 11th Gen Core i7 Processor 13.3-inch (...      1,09,990\n",
       "1  Lenovo Yoga 7 11th Gen Intel Core i7-1165G7 14...      1,03,100\n",
       "2  Mi Notebook Horizon Edition 14 Intel Core i7-1...        59,490\n",
       "3  HP Pavilion (2021) Thin & Light 11th Gen Core ...        84,990\n",
       "4  MSI GF65 Thin, Intel i7-10750H, 15.6\" FHD (39....        81,990\n",
       "5  ASUS TUF Gaming F15 (2020), 15.6-inch (39.62 c...        71,990\n",
       "6  HP Envy 11th Gen Core i7 Processor 13.3-inch (...      1,09,990\n",
       "7  ASUS VivoBook S S14 Intel Core i7-1165G7 11th ...        77,990\n",
       "8  Life Digital Laptop 15.6-inch (39.62 cms) (Int...        34,990\n",
       "9  Lenovo IdeaPad Gaming 3 Intel Core i7 10th Gen...        73,990"
      ]
     },
     "execution_count": 390,
     "metadata": {},
     "output_type": "execute_result"
    }
   ],
   "source": [
    "lapy=pd.DataFrame({})\n",
    "lapy['bn']=Product_title[0:10]\n",
    "lapy['p_d']=Product_rating[0:10]\n",
    "lapy['price_d']=Price[0:10]\n",
    "\n",
    "lapy"
   ]
  },
  {
   "cell_type": "code",
   "execution_count": null,
   "metadata": {},
   "outputs": [],
   "source": []
  }
 ],
 "metadata": {
  "kernelspec": {
   "display_name": "Python 3",
   "language": "python",
   "name": "python3"
  },
  "language_info": {
   "codemirror_mode": {
    "name": "ipython",
    "version": 3
   },
   "file_extension": ".py",
   "mimetype": "text/x-python",
   "name": "python",
   "nbconvert_exporter": "python",
   "pygments_lexer": "ipython3",
   "version": "3.8.5"
  }
 },
 "nbformat": 4,
 "nbformat_minor": 4
}
