{
 "cells": [
  {
   "cell_type": "raw",
   "metadata": {},
   "source": [
    "WEB SCRAPING ASSIGNMENT 3\n",
    "Instructions:\n",
    "• All questions are compulsory.\n",
    "• In each of the questions you have to automate the process. You do not have to click on any \n",
    "button, click any clickable element, enter keywords in search boxes manually. Each process \n",
    "has to be performed via coding.\n",
    "• Q1 and Q2 are connected questions i.e. after attempting Q1 proceed to Q2. Do not write \n",
    "whole code from beginning for Q2.\n",
    "• You may use any web scraping library and tools.\n",
    "• The question can be attempted in various ways; the correctness of question depends on the \n",
    "output.\n",
    "• If you encounter any Null values during scraping, you may replace it by hyphen."
   ]
  },
  {
   "cell_type": "raw",
   "metadata": {},
   "source": [
    "Exercise:\n",
    "1. Write a python program which searches all the product under a particular product vertical\n",
    "from www.amazon.in. The product verticals to be searched will be taken as input from user.\n",
    "For e.g. If user input is ‘guitar’. Then search for guitars.\n",
    "2. In the above question, now scrape the following details of each product listed in first 3 pages \n",
    "of your search results and save it in a data frame and csv. In case if any product vertical has \n",
    "less than 3 pages in search results then scrape all the products available under that product \n",
    "vertical. Details to be scraped are: \"Brand Name\", \"Name of the Product\", \"Rating\", \"No. of \n",
    "Ratings\", \"Price\", \"Return/Exchange\", \"Expected Delivery\", \"Availability\", \"Other Details\" \n",
    "and “Product URL”. In case, if any of the details are missing for any of the product then \n",
    "replace it by “-“.\n"
   ]
  },
  {
   "cell_type": "code",
   "execution_count": null,
   "metadata": {},
   "outputs": [],
   "source": [
    "import pandas as pd"
   ]
  },
  {
   "cell_type": "code",
   "execution_count": null,
   "metadata": {},
   "outputs": [],
   "source": [
    "! pip install selenium"
   ]
  },
  {
   "cell_type": "code",
   "execution_count": null,
   "metadata": {},
   "outputs": [],
   "source": [
    "import selenium\n",
    "import pandas as pd\n",
    "from selenium import webdriver"
   ]
  },
  {
   "cell_type": "code",
   "execution_count": null,
   "metadata": {},
   "outputs": [],
   "source": [
    "driver=webdriver.Edge('msedgedriver.exe')"
   ]
  },
  {
   "cell_type": "code",
   "execution_count": null,
   "metadata": {},
   "outputs": [],
   "source": [
    "url = \"https://www.amazon.in.\"\n",
    "driver.get(url)"
   ]
  },
  {
   "cell_type": "code",
   "execution_count": null,
   "metadata": {},
   "outputs": [],
   "source": [
    "search_bar=driver.find_element_by_xpath(\"/html/body/div[1]/header/div/div[1]/div[2]/div/form/div[2]/div[1]/input\")\n",
    "search_bar"
   ]
  },
  {
   "cell_type": "code",
   "execution_count": null,
   "metadata": {},
   "outputs": [],
   "source": [
    "search_bar.send_keys(\"treadmil\")"
   ]
  },
  {
   "cell_type": "code",
   "execution_count": null,
   "metadata": {},
   "outputs": [],
   "source": [
    "search_button=driver.find_element_by_xpath(\"//div[@class='nav-search-submit nav-sprite']\")\n",
    "search_button.click()"
   ]
  },
  {
   "cell_type": "code",
   "execution_count": null,
   "metadata": {},
   "outputs": [],
   "source": [
    "Brand_name=driver.find_elements_by_xpath('//a[@class=\"a-link-normal a-text-normal\"]')\n",
    "Brand_name"
   ]
  },
  {
   "cell_type": "code",
   "execution_count": null,
   "metadata": {},
   "outputs": [],
   "source": [
    "Brand=[]\n",
    "for i in Brand_name:\n",
    "    Brand.append(i.text)\n",
    "    \n",
    "Brand"
   ]
  },
  {
   "cell_type": "code",
   "execution_count": null,
   "metadata": {},
   "outputs": [],
   "source": [
    "len(Brand)"
   ]
  },
  {
   "cell_type": "code",
   "execution_count": null,
   "metadata": {},
   "outputs": [],
   "source": [
    "Ratings_earned=driver.find_elements_by_xpath('//a[@class=\"a-popover-trigger a-declarative\"]')\n",
    "Ratings_earned"
   ]
  },
  {
   "cell_type": "code",
   "execution_count": null,
   "metadata": {},
   "outputs": [],
   "source": [
    "Ratings=[]\n",
    "for i in Ratings_earned:\n",
    "    Ratings.append(i.text)\n",
    "    \n",
    "Ratings"
   ]
  },
  {
   "cell_type": "code",
   "execution_count": null,
   "metadata": {},
   "outputs": [],
   "source": [
    "len(Ratings)"
   ]
  },
  {
   "cell_type": "code",
   "execution_count": null,
   "metadata": {},
   "outputs": [],
   "source": [
    "RATING=Ratings[0:26]\n",
    "RATING"
   ]
  },
  {
   "cell_type": "code",
   "execution_count": null,
   "metadata": {},
   "outputs": [],
   "source": [
    "savings=driver.find_elements_by_xpath('//div[@class=\"a-row a-size-base a-color-base\"]')\n",
    "savings"
   ]
  },
  {
   "cell_type": "code",
   "execution_count": null,
   "metadata": {},
   "outputs": [],
   "source": [
    "Savings=[]\n",
    "for i in savings:\n",
    "    Savings.append(i.text)\n",
    "    \n",
    "Savings"
   ]
  },
  {
   "cell_type": "code",
   "execution_count": null,
   "metadata": {},
   "outputs": [],
   "source": [
    "len(Savings)"
   ]
  },
  {
   "cell_type": "code",
   "execution_count": null,
   "metadata": {},
   "outputs": [],
   "source": [
    "Delivery_date=driver.find_elements_by_xpath('//span[@class=\"a-text-bold\"]')\n",
    "Delivery_date"
   ]
  },
  {
   "cell_type": "code",
   "execution_count": null,
   "metadata": {},
   "outputs": [],
   "source": [
    "Del_date=[]\n",
    "for i in Delivery_date:\n",
    "    Del_date.append(i.text)\n",
    "    \n",
    "Del_date"
   ]
  },
  {
   "cell_type": "code",
   "execution_count": null,
   "metadata": {},
   "outputs": [],
   "source": [
    "len(Del_date)"
   ]
  },
  {
   "cell_type": "code",
   "execution_count": null,
   "metadata": {
    "scrolled": true
   },
   "outputs": [],
   "source": [
    "DEL_Date=Del_date[0:26]\n",
    "DEL_Date"
   ]
  },
  {
   "cell_type": "code",
   "execution_count": null,
   "metadata": {},
   "outputs": [],
   "source": [
    "next_page2=driver.find_element_by_xpath(\"/html/body/div[1]/div[2]/div[1]/div[1]/div/span[3]/div[2]/div[28]/span/div/span/a[1]\")\n",
    "next_page2.click()"
   ]
  },
  {
   "cell_type": "code",
   "execution_count": null,
   "metadata": {},
   "outputs": [],
   "source": [
    "Brand_namepg2=driver.find_elements_by_xpath('//a[@class=\"a-link-normal a-text-normal\"]')\n",
    "Brand_namepg2"
   ]
  },
  {
   "cell_type": "code",
   "execution_count": null,
   "metadata": {},
   "outputs": [],
   "source": [
    "for i in Brand_namepg2:\n",
    "    Brand.append(i.text)\n",
    "    \n",
    "Brand\n"
   ]
  },
  {
   "cell_type": "code",
   "execution_count": null,
   "metadata": {
    "scrolled": true
   },
   "outputs": [],
   "source": [
    "len(Brand)"
   ]
  },
  {
   "cell_type": "code",
   "execution_count": null,
   "metadata": {},
   "outputs": [],
   "source": [
    "BRAND=Brand[0:48]\n",
    "BRAND"
   ]
  },
  {
   "cell_type": "code",
   "execution_count": null,
   "metadata": {},
   "outputs": [],
   "source": [
    "Ratings_earnedpg2=driver.find_elements_by_xpath('//span[@class=\"a-icon-alt\"]')\n",
    "Ratings_earnedpg2"
   ]
  },
  {
   "cell_type": "code",
   "execution_count": null,
   "metadata": {},
   "outputs": [],
   "source": [
    "for i in Ratings_earnedpg2:\n",
    "    RATING.append(i.text)\n",
    "    \n",
    "RATING\n"
   ]
  },
  {
   "cell_type": "code",
   "execution_count": null,
   "metadata": {},
   "outputs": [],
   "source": [
    "len(RATING)\n"
   ]
  },
  {
   "cell_type": "code",
   "execution_count": null,
   "metadata": {},
   "outputs": [],
   "source": [
    "RaTiNg=RATING[0:48]\n",
    "RaTiNg\n"
   ]
  },
  {
   "cell_type": "code",
   "execution_count": null,
   "metadata": {},
   "outputs": [],
   "source": [
    "len(RaTiNg)"
   ]
  },
  {
   "cell_type": "code",
   "execution_count": null,
   "metadata": {},
   "outputs": [],
   "source": [
    "savingspg2=driver.find_elements_by_xpath('//div[@class=\"a-section a-spacing-none a-spacing-top-small\"]')\n",
    "savingspg2"
   ]
  },
  {
   "cell_type": "code",
   "execution_count": null,
   "metadata": {},
   "outputs": [],
   "source": [
    "for i in savingspg2:\n",
    "    Savings.append(i.text)\n",
    "    \n",
    "Savings"
   ]
  },
  {
   "cell_type": "code",
   "execution_count": null,
   "metadata": {},
   "outputs": [],
   "source": [
    "len(Savings)"
   ]
  },
  {
   "cell_type": "code",
   "execution_count": null,
   "metadata": {},
   "outputs": [],
   "source": [
    "SaViNgS=Savings[0:48]\n",
    "SaViNgS"
   ]
  },
  {
   "cell_type": "code",
   "execution_count": null,
   "metadata": {},
   "outputs": [],
   "source": [
    "Delivery_datepg2=driver.find_elements_by_xpath('//span[@class=\"a-text-bold\"]')\n",
    "Delivery_datepg2"
   ]
  },
  {
   "cell_type": "code",
   "execution_count": null,
   "metadata": {},
   "outputs": [],
   "source": [
    "for i in Delivery_datepg2:\n",
    "    DEL_Date.append(i.text)\n",
    "    \n",
    "DEL_Date"
   ]
  },
  {
   "cell_type": "code",
   "execution_count": null,
   "metadata": {},
   "outputs": [],
   "source": [
    "len(DEL_Date)"
   ]
  },
  {
   "cell_type": "code",
   "execution_count": null,
   "metadata": {},
   "outputs": [],
   "source": [
    "DEL_DATE=DEL_Date[0:48]\n",
    "DEL_DATE"
   ]
  },
  {
   "cell_type": "code",
   "execution_count": null,
   "metadata": {},
   "outputs": [],
   "source": [
    "next_page3=driver.find_element_by_xpath(\"/html/body/div[1]/div[2]/div[1]/div[1]/div/span[3]/div[2]/div[26]/span/div/div/ul/li[4]/a\")\n",
    "next_page3.click()"
   ]
  },
  {
   "cell_type": "code",
   "execution_count": null,
   "metadata": {},
   "outputs": [],
   "source": [
    "Brand_namepg3=driver.find_elements_by_xpath('//a[@class=\"a-link-normal a-text-normal\"]')\n",
    "Brand_namepg3"
   ]
  },
  {
   "cell_type": "code",
   "execution_count": null,
   "metadata": {},
   "outputs": [],
   "source": [
    "for i in Brand_namepg3:\n",
    "    BRAND.append(i.text)\n",
    "    \n",
    "BRAND"
   ]
  },
  {
   "cell_type": "code",
   "execution_count": null,
   "metadata": {},
   "outputs": [],
   "source": [
    "len(BRAND)"
   ]
  },
  {
   "cell_type": "code",
   "execution_count": null,
   "metadata": {},
   "outputs": [],
   "source": [
    "Final_Brand=BRAND[0:70]\n",
    "Final_Brand"
   ]
  },
  {
   "cell_type": "code",
   "execution_count": null,
   "metadata": {},
   "outputs": [],
   "source": [
    "len(Final_Brand)"
   ]
  },
  {
   "cell_type": "code",
   "execution_count": null,
   "metadata": {},
   "outputs": [],
   "source": [
    "Ratings_earnedpg3=driver.find_elements_by_xpath('//a[@class=\"a-popover-trigger a-declarative\"]')\n",
    "Ratings_earnedpg3"
   ]
  },
  {
   "cell_type": "code",
   "execution_count": null,
   "metadata": {},
   "outputs": [],
   "source": [
    "for i in Ratings_earnedpg3:\n",
    "    RaTiNg.append(i.text)\n",
    "    \n",
    "RaTiNg"
   ]
  },
  {
   "cell_type": "code",
   "execution_count": null,
   "metadata": {},
   "outputs": [],
   "source": [
    "len(RaTiNg)"
   ]
  },
  {
   "cell_type": "code",
   "execution_count": null,
   "metadata": {},
   "outputs": [],
   "source": [
    "FINAL_RATING=RaTiNg[0:70]\n",
    "FINAL_RATING"
   ]
  },
  {
   "cell_type": "code",
   "execution_count": null,
   "metadata": {},
   "outputs": [],
   "source": [
    "savingspg3=driver.find_elements_by_xpath('//div[@class=\"a-section a-spacing-none a-spacing-top-small\"]')\n",
    "savingspg3\n",
    "\n",
    "for i in savingspg3:\n",
    "    SaViNgS.append(i.text)\n",
    "    \n",
    "SaViNgS\n"
   ]
  },
  {
   "cell_type": "code",
   "execution_count": null,
   "metadata": {},
   "outputs": [],
   "source": [
    "print(len(SaViNgS))\n",
    "\n",
    "Final_Savings=SaViNgS[0:70]\n",
    "len(Final_Savings)"
   ]
  },
  {
   "cell_type": "code",
   "execution_count": null,
   "metadata": {},
   "outputs": [],
   "source": [
    "Delivery_datepg3=driver.find_elements_by_xpath('//span[@class=\"a-text-bold\"]')\n",
    "Delivery_datepg3\n",
    "\n",
    "for i in Delivery_datepg3:\n",
    "    DEL_Date.append(i.text)\n",
    "    \n",
    "DEL_Date\n",
    "\n",
    "len(DEL_Date)"
   ]
  },
  {
   "cell_type": "code",
   "execution_count": null,
   "metadata": {
    "scrolled": true
   },
   "outputs": [],
   "source": [
    "final_del_date=DEL_Date[0:70]\n"
   ]
  },
  {
   "cell_type": "code",
   "execution_count": null,
   "metadata": {},
   "outputs": [],
   "source": [
    "treadmil=pd.DataFrame({})\n",
    "treadmil['brand_name']=Final_Brand\n",
    "treadmil['overall_ratings']=FINAL_RATING\n",
    "treadmil['total_saving']=Final_Savings\n",
    "treadmil['delivery_date']=final_del_date\n",
    "treadmil"
   ]
  },
  {
   "cell_type": "code",
   "execution_count": null,
   "metadata": {},
   "outputs": [],
   "source": [
    "treadmil.to_csv(\"C:\\\\Users\\\\RULEBENDER\\\\treadmil_data.csv\")\n",
    "print('file writing is done')"
   ]
  },
  {
   "cell_type": "raw",
   "metadata": {},
   "source": [
    "3. Write a python program to access the search bar and search button on images.google.com and \n",
    "scrape 100 images each for keywords ‘fruits’, ‘cars’ and ‘Machine Learning’."
   ]
  },
  {
   "cell_type": "code",
   "execution_count": null,
   "metadata": {},
   "outputs": [],
   "source": [
    "url = \"https://images.google.com\"\n",
    "driver.get(url)"
   ]
  },
  {
   "cell_type": "code",
   "execution_count": null,
   "metadata": {},
   "outputs": [],
   "source": [
    "search_bar=driver.find_element_by_xpath(\"/html/body/div[2]/div[2]/div/form/div[1]/div[1]/div[1]/div/div[2]/input\")\n",
    "search_bar"
   ]
  },
  {
   "cell_type": "code",
   "execution_count": null,
   "metadata": {},
   "outputs": [],
   "source": [
    "search_bar.send_keys(\"fruits\")"
   ]
  },
  {
   "cell_type": "code",
   "execution_count": null,
   "metadata": {},
   "outputs": [],
   "source": [
    "search_button=driver.find_element_by_xpath(\"/html/body/div[2]/div[2]/div/form/div[1]/div[1]/div[1]/button/div/span\")\n",
    "search_button.click()"
   ]
  },
  {
   "cell_type": "code",
   "execution_count": null,
   "metadata": {},
   "outputs": [],
   "source": [
    "fruit_img=driver.find_elements_by_xpath('//a[@class=\"VFACy kGQAp sMi44c lNHeqe WGvvNb\"]')\n",
    "fruit_img"
   ]
  },
  {
   "cell_type": "code",
   "execution_count": null,
   "metadata": {},
   "outputs": [],
   "source": [
    "Fruits_im=[]\n",
    "for i in fruit_img:\n",
    "    Fruits_im.append(i.text)\n",
    "    \n",
    "Fruits_im"
   ]
  },
  {
   "cell_type": "code",
   "execution_count": null,
   "metadata": {},
   "outputs": [],
   "source": [
    "len(Fruits_im)"
   ]
  },
  {
   "cell_type": "code",
   "execution_count": null,
   "metadata": {},
   "outputs": [],
   "source": [
    "fruit_desc=driver.find_elements_by_xpath('//img[@class=\"rg_i Q4LuWd\"]')\n",
    "fruit_desc"
   ]
  },
  {
   "cell_type": "code",
   "execution_count": null,
   "metadata": {},
   "outputs": [],
   "source": [
    "Fruits=[]\n",
    "for i in fruit_desc:\n",
    "    Fruits.append(i.get_attribute('src'))\n",
    "    \n",
    "Fruits"
   ]
  },
  {
   "cell_type": "code",
   "execution_count": null,
   "metadata": {},
   "outputs": [],
   "source": [
    "len(Fruits)\n",
    "FrUITS=Fruits[0:100]\n",
    "FrUITS"
   ]
  },
  {
   "cell_type": "code",
   "execution_count": null,
   "metadata": {},
   "outputs": [],
   "source": [
    "FRUITS=pd.DataFrame({})\n",
    "FRUITS['imgl']=FrUITS\n",
    "FRUITS['desc']=Fruits_im\n",
    "FRUITS"
   ]
  },
  {
   "cell_type": "code",
   "execution_count": null,
   "metadata": {},
   "outputs": [],
   "source": [
    "FRUITS.tail(30)"
   ]
  },
  {
   "cell_type": "code",
   "execution_count": null,
   "metadata": {},
   "outputs": [],
   "source": [
    "url = \"https://images.google.com\"\n",
    "driver.get(url)"
   ]
  },
  {
   "cell_type": "code",
   "execution_count": null,
   "metadata": {},
   "outputs": [],
   "source": [
    "search_bar=driver.find_element_by_xpath(\"/html/body/div[2]/div[2]/div/form/div[1]/div[1]/div[1]/div/div[2]/input\")\n",
    "search_bar\n",
    "\n",
    "search_bar.send_keys(\"cars\")\n",
    "\n",
    "search_button=driver.find_element_by_xpath(\"/html/body/div[2]/div[2]/div/form/div[1]/div[1]/div[1]/button/div/span\")\n",
    "search_button.click()"
   ]
  },
  {
   "cell_type": "code",
   "execution_count": null,
   "metadata": {
    "scrolled": false
   },
   "outputs": [],
   "source": [
    "cars_img=driver.find_elements_by_xpath('//img[@class=\"rg_i Q4LuWd\"]')\n",
    "cars_img\n",
    "\n",
    "cars=[]\n",
    "for i in cars_img:\n",
    "    cars.append(i.get_attribute('src'))\n",
    "    \n",
    "cars"
   ]
  },
  {
   "cell_type": "code",
   "execution_count": null,
   "metadata": {},
   "outputs": [],
   "source": [
    "len(cars)"
   ]
  },
  {
   "cell_type": "code",
   "execution_count": null,
   "metadata": {},
   "outputs": [],
   "source": [
    "cARs=cars[0:100]"
   ]
  },
  {
   "cell_type": "code",
   "execution_count": null,
   "metadata": {},
   "outputs": [],
   "source": [
    "cars_desc=driver.find_elements_by_xpath('//a[@class=\"VFACy kGQAp sMi44c lNHeqe WGvvNb\"]')\n",
    "cars_desc"
   ]
  },
  {
   "cell_type": "code",
   "execution_count": null,
   "metadata": {
    "scrolled": true
   },
   "outputs": [],
   "source": [
    "CARS_DESC=[]\n",
    "for i in cars_desc:\n",
    "    CARS_DESC.append(i.text)\n",
    "    \n",
    "CARS_DESC"
   ]
  },
  {
   "cell_type": "code",
   "execution_count": null,
   "metadata": {
    "scrolled": true
   },
   "outputs": [],
   "source": [
    "cars_DESC=CARS_DESC[0:100]\n",
    "cars_DESC"
   ]
  },
  {
   "cell_type": "code",
   "execution_count": null,
   "metadata": {},
   "outputs": [],
   "source": [
    "len(cars_DESC)"
   ]
  },
  {
   "cell_type": "code",
   "execution_count": null,
   "metadata": {},
   "outputs": [],
   "source": [
    "CARS=pd.DataFrame({})\n",
    "CARS['imgl']=cARs\n",
    "CARS['desc']=cars_DESC\n",
    "CARS"
   ]
  },
  {
   "cell_type": "code",
   "execution_count": null,
   "metadata": {},
   "outputs": [],
   "source": [
    "url = \"https://images.google.com\"\n",
    "driver.get(url)\n",
    "\n",
    "search_bar=driver.find_element_by_xpath(\"/html/body/div[2]/div[2]/div/form/div[1]/div[1]/div[1]/div/div[2]/input\")\n",
    "search_bar\n",
    "\n",
    "search_bar.send_keys(\"Machine Learning\")\n",
    "\n",
    "search_button=driver.find_element_by_xpath(\"/html/body/div[2]/div[2]/div/form/div[1]/div[1]/div[1]/button/div/span\")\n",
    "search_button.click()"
   ]
  },
  {
   "cell_type": "code",
   "execution_count": null,
   "metadata": {},
   "outputs": [],
   "source": [
    "ML_Img=driver.find_elements_by_xpath('//img[@class=\"rg_i Q4LuWd\"]')\n",
    "ML_Img\n",
    "\n",
    "ML_IMG=[]\n",
    "for i in ML_Img:\n",
    "    ML_IMG.append(i.get_attribute('src'))\n",
    "    \n",
    "ML_IMG\n",
    "ML_IMg=ML_IMG[0:100]\n",
    "\n",
    "\n",
    "ML_desc=driver.find_elements_by_xpath('//a[@class=\"VFACy kGQAp sMi44c lNHeqe WGvvNb\"]')\n",
    "ML_desc\n",
    "\n",
    "ML_DESC=[]\n",
    "for i in ML_desc:\n",
    "    ML_DESC.append(i.text)\n",
    "    \n",
    "ML_DESC"
   ]
  },
  {
   "cell_type": "code",
   "execution_count": null,
   "metadata": {},
   "outputs": [],
   "source": [
    "len(ML_DESC),len(ML_IMg)"
   ]
  },
  {
   "cell_type": "code",
   "execution_count": null,
   "metadata": {},
   "outputs": [],
   "source": [
    "MACHINE_L=pd.DataFrame({})\n",
    "MACHINE_L['imgl']=ML_IMg\n",
    "MACHINE_L['desc']=ML_DESC\n",
    "MACHINE_L"
   ]
  },
  {
   "cell_type": "code",
   "execution_count": null,
   "metadata": {},
   "outputs": [],
   "source": [
    "GOOGLE=MACHINE_L,CARS,FRUITS\n",
    "GOOGLE"
   ]
  },
  {
   "cell_type": "code",
   "execution_count": null,
   "metadata": {},
   "outputs": [],
   "source": [
    "MACHINE_L,CARS,FRUITS.to_csv(\"C:\\\\Users\\\\RULEBENDER\\\\GOOGLE_data.csv\")\n",
    "print('file writing is done')"
   ]
  },
  {
   "cell_type": "raw",
   "metadata": {},
   "source": [
    "4. Write a python program to search for a smartphone(e.g.: Oneplus Nord, pixel 4A, etc.) on \n",
    "www.flipkart.com and scrape following details for all the search results displayed on 1st page. \n",
    "Details to be scraped: “Brand Name”, “Smartphone name”, “Colour”, “RAM”, \n",
    "“Storage(ROM)”, “Primary Camera”, “Secondary Camera”, “Display Size”, “Display \n",
    "Resolution”, “Processor”, “Processor Cores”, “Battery Capacity”, “Price”, “Product URL”. \n",
    "Incase if any of the details is missing then replace it by “- “. Save your results in a dataframe \n",
    "and CSV.\n"
   ]
  },
  {
   "cell_type": "code",
   "execution_count": null,
   "metadata": {},
   "outputs": [],
   "source": [
    "url = \"https://www.flipkart.com\"\n",
    "driver.get(url)"
   ]
  },
  {
   "cell_type": "code",
   "execution_count": null,
   "metadata": {},
   "outputs": [],
   "source": [
    "search_bar=driver.find_element_by_xpath(\"/html/body/div[1]/div/div[1]/div[1]/div[2]/div[2]/form/div/div/input\")\n",
    "search_bar\n",
    "\n",
    "search_bar.send_keys(\"iphone\")\n",
    "\n",
    "search_button=driver.find_element_by_xpath(\"/html/body/div[1]/div/div[1]/div[1]/div[2]/div[2]/form/div/button\")\n",
    "search_button.click()"
   ]
  },
  {
   "cell_type": "code",
   "execution_count": null,
   "metadata": {},
   "outputs": [],
   "source": [
    "brand_name=driver.find_elements_by_xpath('//div[@class=\"_4rR01T\"]')\n",
    "brand_name"
   ]
  },
  {
   "cell_type": "code",
   "execution_count": null,
   "metadata": {},
   "outputs": [],
   "source": [
    "Brand=[]\n",
    "for i in brand_name:\n",
    "    Brand.append(i.text)\n",
    "    \n",
    "Brand"
   ]
  },
  {
   "cell_type": "code",
   "execution_count": null,
   "metadata": {},
   "outputs": [],
   "source": [
    "len(Brand)"
   ]
  },
  {
   "cell_type": "code",
   "execution_count": null,
   "metadata": {},
   "outputs": [],
   "source": [
    "storage=driver.find_elements_by_xpath('//ul[@class=\"_1xgFaf\"]')\n",
    "storage"
   ]
  },
  {
   "cell_type": "code",
   "execution_count": null,
   "metadata": {},
   "outputs": [],
   "source": [
    "ROM=[]\n",
    "for i in storage:\n",
    "    ROM.append(i.text)\n",
    "    \n",
    "ROM"
   ]
  },
  {
   "cell_type": "code",
   "execution_count": null,
   "metadata": {},
   "outputs": [],
   "source": [
    "price=driver.find_elements_by_xpath('//div[@class=\"_30jeq3 _1_WHN1\"]')\n",
    "price"
   ]
  },
  {
   "cell_type": "code",
   "execution_count": null,
   "metadata": {
    "scrolled": true
   },
   "outputs": [],
   "source": [
    "PRICE=[]\n",
    "for i in price:\n",
    "    PRICE.append(i.text)\n",
    "    \n",
    "PRICE"
   ]
  },
  {
   "cell_type": "code",
   "execution_count": null,
   "metadata": {},
   "outputs": [],
   "source": [
    "Exchange_value=driver.find_elements_by_xpath('//div[@class=\"_2Tpdn3 _18hQoS\"]')\n",
    "Exchange_value\n",
    "\n",
    "EXCHANGE=[]\n",
    "for i in Exchange_value:\n",
    "    EXCHANGE.append(i.text)\n",
    "    \n",
    "EXCHANGE"
   ]
  },
  {
   "cell_type": "code",
   "execution_count": null,
   "metadata": {},
   "outputs": [],
   "source": [
    "EXCHANGE_AMT=[]\n",
    "\n",
    "for i in range(1,len(EXCHANGE),3):\n",
    "    EXCHANGE_AMT.append(EXCHANGE[i])\n",
    "    \n",
    "EXCHANGE_AMT"
   ]
  },
  {
   "cell_type": "code",
   "execution_count": null,
   "metadata": {},
   "outputs": [],
   "source": [
    "percentage_off=driver.find_elements_by_xpath('//div[@class=\"_3Ay6Sb\"]')\n",
    "percentage_off\n",
    "\n",
    "off=[]\n",
    "for i in percentage_off:\n",
    "    off.append(i.text)\n",
    "    \n",
    "off"
   ]
  },
  {
   "cell_type": "code",
   "execution_count": null,
   "metadata": {},
   "outputs": [],
   "source": [
    "phone_data=pd.DataFrame({})\n",
    "\n",
    "phone_data['BRAND']=Brand\n",
    "phone_data['STORAGE']=ROM\n",
    "phone_data['Exchange']=EXCHANGE_AMT\n",
    "phone_data['AMOUNT']=PRICE\n",
    "phone_data['OFF_AMT']=off\n",
    "phone_data"
   ]
  },
  {
   "cell_type": "code",
   "execution_count": null,
   "metadata": {},
   "outputs": [],
   "source": [
    "phone_data.to_csv(\"C:\\\\Users\\\\RULEBENDER\\\\GOOGLE_data.csv\")\n",
    "print('file writing is done')"
   ]
  },
  {
   "cell_type": "raw",
   "metadata": {},
   "source": [
    "6. Write a program to scrap details of all the funding deals for second quarter (i.e. July 20 –\n",
    "September 20) from trak.in."
   ]
  },
  {
   "cell_type": "code",
   "execution_count": null,
   "metadata": {},
   "outputs": [],
   "source": [
    "driver=webdriver.Edge('msedgedriver.exe')"
   ]
  },
  {
   "cell_type": "code",
   "execution_count": null,
   "metadata": {},
   "outputs": [],
   "source": [
    "url = \"https://www.trak.in\"\n",
    "driver.get(url)"
   ]
  },
  {
   "cell_type": "code",
   "execution_count": null,
   "metadata": {},
   "outputs": [],
   "source": [
    "header_name=driver.find_element_by_xpath(\"/html/body/div[1]/header/div[2]/div/div/div/div/nav/ul/li[9]/a\")\n",
    "header_name.click()"
   ]
  },
  {
   "cell_type": "code",
   "execution_count": null,
   "metadata": {},
   "outputs": [],
   "source": [
    "JULY_20=driver.find_elements_by_xpath('//td[@class=\"column-2\"]')\n",
    "JULY_20"
   ]
  },
  {
   "cell_type": "code",
   "execution_count": null,
   "metadata": {},
   "outputs": [],
   "source": [
    "JULY_20_DEAL=[]\n",
    "for i in JULY_20:\n",
    "    JULY_20_DEAL.append(i.text)\n",
    "    \n",
    "JULY_20_DEAL"
   ]
  },
  {
   "cell_type": "code",
   "execution_count": null,
   "metadata": {},
   "outputs": [],
   "source": [
    "date=JULY_20_DEAL[55:85]\n",
    "date"
   ]
  },
  {
   "cell_type": "code",
   "execution_count": null,
   "metadata": {},
   "outputs": [],
   "source": [
    "JULY_20a=driver.find_elements_by_xpath('//td[@class=\"column-3\"]')\n",
    "\n",
    "JULY_20_DEAL1=[]\n",
    "for i in JULY_20a:\n",
    "    JULY_20_DEAL1.append(i.text)\n",
    "    \n",
    "JULY_20_DEAL1\n",
    "\n",
    "name=JULY_20_DEAL1[55:85]\n",
    "name\n",
    "\n",
    "JULY_20b=driver.find_elements_by_xpath('//td[@class=\"column-4\"]')\n",
    "\n",
    "JULY_20_DEAL2=[]\n",
    "for i in JULY_20b:\n",
    "    JULY_20_DEAL2.append(i.text)\n",
    "    \n",
    "JULY_20_DEAL2\n",
    "\n",
    "industry=JULY_20_DEAL2[55:85]\n",
    "industry\n",
    "\n",
    "JULY_20c=driver.find_elements_by_xpath('//td[@class=\"column-5\"]')\n",
    "\n",
    "JULY_20_DEAL3=[]\n",
    "for i in JULY_20c:\n",
    "    JULY_20_DEAL3.append(i.text)\n",
    "    \n",
    "JULY_20_DEAL3\n",
    "\n",
    "sub_vertical=JULY_20_DEAL3[55:85]\n",
    "sub_vertical\n",
    "\n",
    "\n",
    "JULY_20d=driver.find_elements_by_xpath('//td[@class=\"column-6\"]')\n",
    "\n",
    "JULY_20_DEAL4=[]\n",
    "for i in JULY_20d:\n",
    "    JULY_20_DEAL4.append(i.text)\n",
    "    \n",
    "JULY_20_DEAL4\n",
    "\n",
    "city=JULY_20_DEAL4[55:85]\n",
    "city\n",
    "\n",
    "\n",
    "JULY_20e=driver.find_elements_by_xpath('//td[@class=\"column-7\"]')\n",
    "\n",
    "JULY_20_DEAL5=[]\n",
    "for i in JULY_20e:\n",
    "    JULY_20_DEAL5.append(i.text)\n",
    "    \n",
    "JULY_20_DEAL5\n",
    "\n",
    "investment_name=JULY_20_DEAL5[55:85]\n",
    "investment_name\n",
    "\n",
    "\n",
    "JULY_20f=driver.find_elements_by_xpath('//td[@class=\"column-8\"]')\n",
    "JULY_20_DEAL6=[]\n",
    "for i in JULY_20f:\n",
    "    JULY_20_DEAL6.append(i.text)\n",
    "    \n",
    "JULY_20_DEAL6\n",
    "\n",
    "investment_type=JULY_20_DEAL6[55:85]\n",
    "investment_type\n",
    "\n",
    "\n",
    "JULY_20g=driver.find_elements_by_xpath('//td[@class=\"column-9\"]')\n",
    "JULY_20_DEAL7=[]\n",
    "for i in JULY_20g:\n",
    "    JULY_20_DEAL7.append(i.text)\n",
    "    \n",
    "JULY_20_DEAL7\n",
    "\n",
    "amount=JULY_20_DEAL7[55:85]\n",
    "amount\n",
    "\n",
    "\n",
    "print(\"programe run successfully\")"
   ]
  },
  {
   "cell_type": "code",
   "execution_count": null,
   "metadata": {},
   "outputs": [],
   "source": [
    "funding=pd.DataFrame({})\n",
    "\n",
    "funding['DATE']=date\n",
    "funding['NAME']=name\n",
    "funding['INDUSTRY']=industry\n",
    "funding['SUB_VERTICAL']=sub_vertical\n",
    "funding['CITY']=city\n",
    "funding['INVESTMENT_NAME']=investment_name\n",
    "funding['INVESTMENT_TYPE']=investment_type\n",
    "funding['AMOUNT']=amount\n",
    "\n",
    "funding"
   ]
  },
  {
   "cell_type": "code",
   "execution_count": null,
   "metadata": {},
   "outputs": [],
   "source": [
    "phone_data.to_csv(\"C:\\\\Users\\\\RULEBENDER\\\\2ND_QUATER_FUNDING_data.csv\")\n",
    "print('file writing is done')"
   ]
  },
  {
   "cell_type": "raw",
   "metadata": {},
   "source": [
    "7. Write a program to scrap all the available details of best gaming laptops from digit.in."
   ]
  },
  {
   "cell_type": "code",
   "execution_count": null,
   "metadata": {},
   "outputs": [],
   "source": [
    "url = \"https://www.digit.in\"\n",
    "driver.get(url)"
   ]
  },
  {
   "cell_type": "code",
   "execution_count": null,
   "metadata": {},
   "outputs": [],
   "source": [
    "top_10=driver.find_element_by_xpath(\"/html/body/div[1]/div/div[4]/ul/li[4]/a\")\n",
    "top_10.click()\n",
    "\n",
    "laptops=driver.find_element_by_xpath(\"/html/body/div[3]/div/div/div[2]/div[5]/div[1]/div/button[2]\")\n",
    "laptops.click()\n",
    "\n",
    "gaming_laptops=driver.find_element_by_xpath(\"/html/body/div[3]/div/div/div[2]/div[5]/div[2]/div[3]/a/div[2]\")\n",
    "gaming_laptops.click()"
   ]
  },
  {
   "cell_type": "code",
   "execution_count": null,
   "metadata": {},
   "outputs": [],
   "source": [
    "name=driver.find_elements_by_xpath('//div[@class=\"TopNumbeHeading sticky-footer\"]')\n",
    "name"
   ]
  },
  {
   "cell_type": "code",
   "execution_count": null,
   "metadata": {},
   "outputs": [],
   "source": [
    "namex=driver.find_elements_by_xpath('//div[@class=\"/html/body/div[3]/div[1]/div[4]/div[4]/a/h3\"]')\n",
    "namex"
   ]
  },
  {
   "cell_type": "code",
   "execution_count": null,
   "metadata": {},
   "outputs": [],
   "source": [
    "NAME=[]\n",
    "for i in name:\n",
    "    NAME.append(i.text.replace('\\n',''))\n",
    "    \n",
    "NAME"
   ]
  },
  {
   "cell_type": "code",
   "execution_count": null,
   "metadata": {},
   "outputs": [],
   "source": [
    "len(NAME)"
   ]
  },
  {
   "cell_type": "code",
   "execution_count": null,
   "metadata": {},
   "outputs": [],
   "source": [
    "os=driver.find_elements_by_xpath('//div[@class=\"Specs-Wrap\"]')\n",
    "os"
   ]
  },
  {
   "cell_type": "code",
   "execution_count": null,
   "metadata": {},
   "outputs": [],
   "source": [
    "OS=[]\n",
    "for i in os:\n",
    "    OS.append(i.text)\n",
    "    \n",
    "OS"
   ]
  },
  {
   "cell_type": "code",
   "execution_count": null,
   "metadata": {},
   "outputs": [],
   "source": [
    "description=OS[0:6]\n",
    "description"
   ]
  },
  {
   "cell_type": "code",
   "execution_count": null,
   "metadata": {},
   "outputs": [],
   "source": [
    "GAMING_LAPTOPS=pd.DataFrame({})\n",
    "GAMING_LAPTOPS['BRAND']=NAME\n",
    "GAMING_LAPTOPS['SPEC.']=description\n",
    "GAMING_LAPTOPS"
   ]
  },
  {
   "cell_type": "code",
   "execution_count": null,
   "metadata": {},
   "outputs": [],
   "source": [
    "phone_data.to_csv(\"C:\\\\Users\\\\RULEBENDER\\\\GAMING_LAPTOP_DATA.csv\")\n",
    "print('file writing is done')"
   ]
  },
  {
   "cell_type": "raw",
   "metadata": {},
   "source": [
    "8. Write a python program to scrape the details for all billionaires from www.forbes.com. \n",
    "Details to be scrapped: “Rank”, “Name”, “Net worth”, “Age”, “Citizenship”, “Source”, \n",
    "“Industry”."
   ]
  },
  {
   "cell_type": "code",
   "execution_count": null,
   "metadata": {},
   "outputs": [],
   "source": [
    "url = \"https://www.forbes.com\"\n",
    "driver.get(url)"
   ]
  },
  {
   "cell_type": "code",
   "execution_count": null,
   "metadata": {},
   "outputs": [],
   "source": [
    "Menu=driver.find_element_by_xpath(\"/html/body/div[1]/header/nav/div[1]\")\n",
    "Menu.click()"
   ]
  },
  {
   "cell_type": "code",
   "execution_count": null,
   "metadata": {},
   "outputs": [],
   "source": [
    "billinears=driver.find_element_by_xpath(\"/html/body/div[1]/header/nav/div[3]/ul/li[1]/a\")\n",
    "billinears.click()"
   ]
  },
  {
   "cell_type": "code",
   "execution_count": null,
   "metadata": {},
   "outputs": [],
   "source": [
    "world_billienors=driver.find_element_by_xpath(\"/html/body/div[1]/main/div/section/section[1]/div/div/div[1]/div/div[1]/div[1]/div[2]/a/h2\")\n",
    "world_billienors.click()"
   ]
  },
  {
   "cell_type": "code",
   "execution_count": null,
   "metadata": {},
   "outputs": [],
   "source": [
    "rank=driver.find_elements_by_xpath('//div[@class=\"rank\"]')\n",
    "rank"
   ]
  },
  {
   "cell_type": "code",
   "execution_count": null,
   "metadata": {},
   "outputs": [],
   "source": [
    "RANK_LIST=[]\n",
    "for i in rank:\n",
    "    RANK_LIST.append(i.text)\n",
    "    \n",
    "RANK_LIST"
   ]
  },
  {
   "cell_type": "code",
   "execution_count": null,
   "metadata": {},
   "outputs": [],
   "source": [
    "name=driver.find_elements_by_xpath('//div[@class=\"personName\"]')\n",
    "name\n",
    "\n",
    "name_list=[]\n",
    "for i in name:\n",
    "    name_list.append(i.text)\n",
    "    \n",
    "name_list"
   ]
  },
  {
   "cell_type": "code",
   "execution_count": null,
   "metadata": {},
   "outputs": [],
   "source": [
    "worth=driver.find_elements_by_xpath('//div[@class=\"netWorth\"]')\n",
    "worth\n",
    "\n",
    "WORTH=[]\n",
    "for i in worth:\n",
    "    WORTH.append(i.text)\n",
    "    \n",
    "WORTH\n",
    "\n",
    "age=driver.find_elements_by_xpath('//div[@class=\"age\"]')\n",
    "age\n",
    "\n",
    "AGE=[]\n",
    "for i in age:\n",
    "    AGE.append(i.text)\n",
    "    \n",
    "AGE\n",
    "\n",
    "place=driver.find_elements_by_xpath('//div[@class=\"countryOfCitizenship\"]')\n",
    "place\n",
    "\n",
    "PLACE=[]\n",
    "for i in place:\n",
    "    PLACE.append(i.text)\n",
    "    \n",
    "PLACE\n",
    "\n",
    "src=driver.find_elements_by_xpath('//div[@class=\"source-column\"]')\n",
    "src\n",
    "\n",
    "SRC=[]\n",
    "for i in src:\n",
    "    SRC.append(i.text)\n",
    "    \n",
    "SRC\n",
    "\n",
    "\n",
    "industry=driver.find_elements_by_xpath('//div[@class=\"category\"]')\n",
    "industry\n",
    "\n",
    "INDUSTRY=[]\n",
    "for i in industry:\n",
    "    INDUSTRY.append(i.text)\n",
    "    \n",
    "INDUSTRY\n",
    "\n",
    "print('success')"
   ]
  },
  {
   "cell_type": "code",
   "execution_count": null,
   "metadata": {},
   "outputs": [],
   "source": [
    "forbes=pd.DataFrame({})\n",
    "forbes['rank.']=RANK_LIST\n",
    "forbes['name']=name_list\n",
    "forbes['worth']=WORTH\n",
    "forbes['age']=AGE\n",
    "forbes['place']=PLACE\n",
    "forbes['src']=SRC\n",
    "forbes['industry']=INDUSTRY\n",
    "forbes"
   ]
  },
  {
   "cell_type": "code",
   "execution_count": null,
   "metadata": {},
   "outputs": [],
   "source": [
    "phone_data.to_csv(\"C:\\\\Users\\\\RULEBENDER\\\\FORBES_BILLIONERS_DATA.csv\")\n",
    "print('file writing is done')"
   ]
  },
  {
   "cell_type": "raw",
   "metadata": {},
   "source": [
    "9. Write a program to extract at least 500 Comments, Comment upvote and time when comment \n",
    "was posted from any YouTube Video.\n"
   ]
  },
  {
   "cell_type": "code",
   "execution_count": null,
   "metadata": {},
   "outputs": [],
   "source": [
    "url = \"https://www.youtube.com\"\n",
    "driver.get(url)"
   ]
  },
  {
   "cell_type": "code",
   "execution_count": null,
   "metadata": {},
   "outputs": [],
   "source": [
    "search_box=driver.find_element_by_xpath(\"/html/body/ytd-app/div/div/ytd-masthead/div[3]/div[2]/ytd-searchbox/form/div/div[1]/input\")\n",
    "search_box"
   ]
  },
  {
   "cell_type": "code",
   "execution_count": null,
   "metadata": {},
   "outputs": [],
   "source": [
    "search_box.send_keys(\"kgf chapter 2\")"
   ]
  },
  {
   "cell_type": "code",
   "execution_count": null,
   "metadata": {},
   "outputs": [],
   "source": [
    "search_button=driver.find_element_by_xpath(\"/html/body/ytd-app/div/div/ytd-masthead/div[3]/div[2]/ytd-searchbox/form/button\")\n",
    "search_button.click()"
   ]
  },
  {
   "cell_type": "code",
   "execution_count": null,
   "metadata": {},
   "outputs": [],
   "source": [
    "click=driver.find_element_by_xpath(\"/html/body/ytd-app/div/ytd-page-manager/ytd-search/div[1]/ytd-two-column-search-results-renderer/div/ytd-section-list-renderer/div[2]/ytd-item-section-renderer/div[3]/ytd-video-renderer[1]/div[1]/div/div[1]/div/h3/a/yt-formatted-string\")\n",
    "click.click()"
   ]
  },
  {
   "cell_type": "code",
   "execution_count": null,
   "metadata": {},
   "outputs": [],
   "source": [
    "name=driver.find_elements_by_xpath('//a[@class=\"yt-simple-endpoint style-scope ytd-comment-renderer\"]')\n",
    "name"
   ]
  },
  {
   "cell_type": "code",
   "execution_count": null,
   "metadata": {},
   "outputs": [],
   "source": [
    "NaMe=[]\n",
    "for i in name:\n",
    "    NaMe.append(i.text)\n",
    "    \n",
    "NaMe"
   ]
  },
  {
   "cell_type": "code",
   "execution_count": null,
   "metadata": {},
   "outputs": [],
   "source": [
    "len(NaMe)"
   ]
  },
  {
   "cell_type": "code",
   "execution_count": null,
   "metadata": {},
   "outputs": [],
   "source": [
    "NAME=[]\n",
    "\n",
    "for i in range(3,len(NaMe),2):\n",
    "    NAME.append(NaMe[i])\n",
    "    \n",
    "NAME"
   ]
  },
  {
   "cell_type": "code",
   "execution_count": null,
   "metadata": {},
   "outputs": [],
   "source": [
    "len(NAME)"
   ]
  },
  {
   "cell_type": "code",
   "execution_count": null,
   "metadata": {},
   "outputs": [],
   "source": [
    "comment=driver.find_elements_by_xpath('//yt-formatted-string[@class=\"style-scope ytd-comment-renderer\"]')\n",
    "comment"
   ]
  },
  {
   "cell_type": "code",
   "execution_count": null,
   "metadata": {},
   "outputs": [],
   "source": [
    "COMMENT=[]\n",
    "for i in comment:\n",
    "    COMMENT.append(i.text)\n",
    "    \n",
    "COMMENT"
   ]
  },
  {
   "cell_type": "code",
   "execution_count": null,
   "metadata": {},
   "outputs": [],
   "source": [
    "COmment=[]\n",
    "\n",
    "for i in range(3,len(COMMENT),2):\n",
    "    COmment.append(COMMENT[i])\n",
    "    \n",
    "COmment"
   ]
  },
  {
   "cell_type": "code",
   "execution_count": null,
   "metadata": {},
   "outputs": [],
   "source": [
    "len(COmment)"
   ]
  },
  {
   "cell_type": "code",
   "execution_count": null,
   "metadata": {},
   "outputs": [],
   "source": [
    "time=driver.find_elements_by_xpath('//a[contains(text(),\"ago\")]')\n",
    "time"
   ]
  },
  {
   "cell_type": "code",
   "execution_count": null,
   "metadata": {},
   "outputs": [],
   "source": [
    "TIME=[]\n",
    "for i in time:\n",
    "    TIME.append(i.text)\n",
    "    \n",
    "TIME"
   ]
  },
  {
   "cell_type": "code",
   "execution_count": null,
   "metadata": {},
   "outputs": [],
   "source": [
    "tm=[]\n",
    "\n",
    "for i in range(2,len(TIME),2):\n",
    "    tm.append(TIME[i])\n",
    "    \n",
    "tm"
   ]
  },
  {
   "cell_type": "code",
   "execution_count": null,
   "metadata": {},
   "outputs": [],
   "source": [
    "yt=pd.DataFrame({})\n",
    "\n",
    "yt['name']=NAME\n",
    "yt['worth']=COmment\n",
    "yt['age']=tm\n",
    "\n",
    "yt"
   ]
  },
  {
   "cell_type": "code",
   "execution_count": null,
   "metadata": {},
   "outputs": [],
   "source": [
    "YT=yt[0:500]\n",
    "YT"
   ]
  },
  {
   "cell_type": "code",
   "execution_count": null,
   "metadata": {},
   "outputs": [],
   "source": [
    "YT.to_csv(\"C:\\\\Users\\\\RULEBENDER\\\\youtube_data.csv\")\n",
    "print('file writing is done')"
   ]
  },
  {
   "cell_type": "raw",
   "metadata": {},
   "source": [
    "10.Write a python program to scrape a data for all available Hostels from \n",
    "https://www.hostelworld.com/ in “London” location. You have to scrape hostel name, \n",
    "distance from city centre, ratings, total reviews, overall reviews, privates from price, dorms \n",
    "from price, facilities and property description. "
   ]
  },
  {
   "cell_type": "code",
   "execution_count": null,
   "metadata": {},
   "outputs": [],
   "source": [
    "driver=webdriver.Edge('msedgedriver.exe')"
   ]
  },
  {
   "cell_type": "code",
   "execution_count": null,
   "metadata": {},
   "outputs": [],
   "source": [
    "url = \"https://www.hostelworld.com/\"\n",
    "driver.get(url)"
   ]
  },
  {
   "cell_type": "code",
   "execution_count": null,
   "metadata": {},
   "outputs": [],
   "source": [
    "search_box=driver.find_element_by_xpath(\"/html/body/div[1]/div/div/div[1]/div[1]/div/div[2]/div[4]/div/div[2]/div/div[1]/div/div/div/input\")\n",
    "search_box"
   ]
  },
  {
   "cell_type": "code",
   "execution_count": null,
   "metadata": {},
   "outputs": [],
   "source": [
    "search_box.send_keys(\"london\")"
   ]
  },
  {
   "cell_type": "code",
   "execution_count": null,
   "metadata": {},
   "outputs": [],
   "source": [
    "search_button=driver.find_element_by_xpath(\"/html/body/div[1]/div/div/div[1]/div[1]/div/div[2]/div[4]/div/div[2]/div/div[5]\")\n",
    "search_button.click()"
   ]
  },
  {
   "cell_type": "code",
   "execution_count": null,
   "metadata": {},
   "outputs": [],
   "source": [
    "hostel_name=driver.find_elements_by_xpath('//h2[@class=\"title title-6\"]')\n",
    "hostel_name"
   ]
  },
  {
   "cell_type": "code",
   "execution_count": null,
   "metadata": {},
   "outputs": [],
   "source": [
    "hostelx_name=[]\n",
    "for i in hostel_name:\n",
    "    hostelx_name.append(i.text)\n",
    "    \n",
    "hostelx_name"
   ]
  },
  {
   "cell_type": "code",
   "execution_count": null,
   "metadata": {},
   "outputs": [],
   "source": [
    "distance=driver.find_elements_by_xpath('//a[@class=\"show-on-map\"]')\n",
    "distance\n",
    "\n",
    "Distance=[]\n",
    "for i in distance:\n",
    "    Distance.append(i.text)\n",
    "    \n",
    "Distance"
   ]
  },
  {
   "cell_type": "code",
   "execution_count": null,
   "metadata": {},
   "outputs": [],
   "source": [
    "rating=driver.find_elements_by_xpath('//div[@class=\"score orange big\"]')\n",
    "rating\n",
    "\n",
    "Rating=[]\n",
    "for i in rating:\n",
    "    Rating.append(i.text)\n",
    "    \n",
    "Rating"
   ]
  },
  {
   "cell_type": "code",
   "execution_count": null,
   "metadata": {},
   "outputs": [],
   "source": [
    "\n",
    "review=driver.find_elements_by_xpath('//div[@class=\"reviews\"]')\n",
    "review\n",
    "\n",
    "Review=[]\n",
    "for i in review:\n",
    "    Review.append(i.text)\n",
    "    \n",
    "Review"
   ]
  },
  {
   "cell_type": "code",
   "execution_count": null,
   "metadata": {},
   "outputs": [],
   "source": [
    "text_review=driver.find_elements_by_xpath('//div[@class=\"keyword\"]')\n",
    "text_review\n",
    "\n",
    "text_Review=[]\n",
    "for i in text_review:\n",
    "    text_Review.append(i.text)\n",
    "    \n",
    "text_Review"
   ]
  },
  {
   "cell_type": "code",
   "execution_count": null,
   "metadata": {},
   "outputs": [],
   "source": [
    "\n",
    "price=driver.find_elements_by_xpath('//div[@class=\"price title-5\"]')\n",
    "price\n",
    "\n",
    "Price=[]\n",
    "for i in price:\n",
    "    Price.append(i.text)\n",
    "    \n",
    "Price"
   ]
  },
  {
   "cell_type": "code",
   "execution_count": null,
   "metadata": {},
   "outputs": [],
   "source": [
    "len(hostelx_name),len(Distance),len(Rating),len(Review),len(text_Review),len(Price)"
   ]
  },
  {
   "cell_type": "code",
   "execution_count": null,
   "metadata": {},
   "outputs": [],
   "source": [
    "HOSTEL=pd.DataFrame({})\n",
    "HOSTEL['name']=hostelx_name[0:27]\n",
    "HOSTEL['dist']=Distance[0:27]\n",
    "HOSTEL['rate']=Rating[0:27]\n",
    "HOSTEL['rev']=Review[0:27]\n",
    "HOSTEL['text']=text_Review[0:27]\n",
    "HOSTEL['price']=Price[0:27]\n",
    "\n",
    "HOSTEL"
   ]
  },
  {
   "cell_type": "code",
   "execution_count": null,
   "metadata": {},
   "outputs": [],
   "source": [
    "HOSTEL.to_csv(\"C:\\\\Users\\\\RULEBENDER\\\\HOSTEL_DATA_LONDON.csv\")\n",
    "print('file writing is done')"
   ]
  },
  {
   "cell_type": "code",
   "execution_count": null,
   "metadata": {},
   "outputs": [],
   "source": []
  },
  {
   "cell_type": "raw",
   "metadata": {},
   "source": [
    "5. Write a program to scrap geospatial coordinates (latitude, longitude) of a city searched on \n",
    "google maps."
   ]
  },
  {
   "cell_type": "code",
   "execution_count": null,
   "metadata": {},
   "outputs": [],
   "source": [
    "not able to understand"
   ]
  }
 ],
 "metadata": {
  "kernelspec": {
   "display_name": "Python 3",
   "language": "python",
   "name": "python3"
  },
  "language_info": {
   "codemirror_mode": {
    "name": "ipython",
    "version": 3
   },
   "file_extension": ".py",
   "mimetype": "text/x-python",
   "name": "python",
   "nbconvert_exporter": "python",
   "pygments_lexer": "ipython3",
   "version": "3.8.5"
  }
 },
 "nbformat": 4,
 "nbformat_minor": 4
}
