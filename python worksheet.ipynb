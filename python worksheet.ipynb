{
 "cells": [
  {
   "cell_type": "markdown",
   "metadata": {},
   "source": [
    "# PYTHON WORK SHEET"
   ]
  },
  {
   "cell_type": "raw",
   "metadata": {},
   "source": [
    " 1. Which of the following operators is used to calculate remainder in a division?\n",
    " A) # B) &\n",
    " C) % D) $\n",
    "\n",
    "C) %"
   ]
  },
  {
   "cell_type": "raw",
   "metadata": {},
   "source": [
    " 2. In python 2//3 is equal to?\n",
    " A) 0.666 B) 0\n",
    " C) 1 D) 0.67\n",
    "\n",
    " B) 0"
   ]
  },
  {
   "cell_type": "raw",
   "metadata": {},
   "source": [
    " 3. In python, 6<<2 is equal to?\n",
    " A) 36 B) 10\n",
    "\n",
    " C) 24 D) 45\n",
    "\n",
    "\n",
    " C) 24"
   ]
  },
  {
   "cell_type": "raw",
   "metadata": {},
   "source": [
    " 4. In python, 6&2 will give which of the following as output?\n",
    "\n",
    " A) 2 B) True\n",
    "\n",
    " C) False D) 0\n",
    "\n",
    "\n",
    " A) 2"
   ]
  },
  {
   "cell_type": "raw",
   "metadata": {},
   "source": [
    " 5. In python, 6|2 will give which of the following as output?\n",
    "\n",
    " A) 2 B) 4\n",
    "\n",
    " C) 0 D) 6\n",
    "\n",
    " D) 6"
   ]
  },
  {
   "cell_type": "raw",
   "metadata": {},
   "source": [
    " 6. What does the finally keyword denotes in python?\n",
    " A) It is used to mark the end of the code\n",
    " B) It encloses the lines of code which will be executed if any error occurs while executing the lines of code in the try block.\n",
    " C) the finally block will be executed no matter if the try block raises an error or not.\n",
    " D) None of the above\n",
    "\n",
    " C) the finally block will be executed no matter if the try block raises an error or not."
   ]
  },
  {
   "cell_type": "raw",
   "metadata": {},
   "source": [
    " 7. What does raise keyword is used for in python?\n",
    "\n",
    " A) It is used to raise an exception.\n",
    " B) It is used to define lambda function\n",
    " C) it's not a keyword in python. \n",
    " D) None of the above\n",
    "\n",
    " A) It is used to raise an exception"
   ]
  },
  {
   "cell_type": "raw",
   "metadata": {},
   "source": [
    " 8. Which of the following is a common use case of yield keyword in python?\n",
    " A) in defining an iterator B) while defining a lambda function\n",
    " C) in defining a generator D) in for loop.\n",
    "\n",
    " A) in defining an iterator"
   ]
  },
  {
   "cell_type": "raw",
   "metadata": {},
   "source": [
    "9.Which of the following are the valid variable names?\n",
    "A) _abc B) 1abc\n",
    "C) abc2 D) None of the above\n",
    "\n"
   ]
  },
  {
   "cell_type": "raw",
   "metadata": {},
   "source": [
    "\n",
    "10. Which of the following are the keywords in python?\n",
    "A) yield B) raise\n",
    "C) look-in D) all of the above\n",
    "\n",
    "A) yield B) raise"
   ]
  },
  {
   "cell_type": "markdown",
   "metadata": {},
   "source": [
    "Write a python program to find the factorial of a number.\n",
    "\n"
   ]
  },
  {
   "cell_type": "code",
   "execution_count": null,
   "metadata": {},
   "outputs": [],
   "source": [
    "number = int(input(\"number:-\"))    \n",
    "factorial=1\n",
    "if number < 0:    \n",
    "   print(\" Error\")    \n",
    "elif number == 0:    \n",
    "   print(\"The factorial of 0 is 1\")    \n",
    "else:    \n",
    "   for i in range(1,number + 1):    \n",
    "       factorial = factorial*i    \n",
    "   print(\"The factorial of\",number,\"is\",factorial)    "
   ]
  },
  {
   "cell_type": "markdown",
   "metadata": {},
   "source": [
    " Write a python program to find whether a number is prime or composite."
   ]
  },
  {
   "cell_type": "code",
   "execution_count": null,
   "metadata": {},
   "outputs": [],
   "source": [
    "number = int(input(\"Number:-\"))\n",
    "\n",
    "if number > 1:\n",
    "    for i in range(2,int(number/2)+1):\n",
    "        if (number % i == 0):\n",
    "            print(number, \"is composite\")\n",
    "            break\n",
    "    else:\n",
    "        print(number,\"is a Prime number\")   \n",
    "else:\n",
    "    print(number,\"is composite\")"
   ]
  },
  {
   "cell_type": "code",
   "execution_count": null,
   "metadata": {},
   "outputs": [],
   "source": [
    "Write a python program to check whether a given string is palindrome or not."
   ]
  },
  {
   "cell_type": "code",
   "execution_count": null,
   "metadata": {},
   "outputs": [],
   "source": [
    "cant understand the term"
   ]
  },
  {
   "cell_type": "code",
   "execution_count": null,
   "metadata": {},
   "outputs": [],
   "source": []
  },
  {
   "cell_type": "code",
   "execution_count": null,
   "metadata": {},
   "outputs": [],
   "source": [
    "Write a Python program to get the third side of right-angled triangle from two given sides."
   ]
  },
  {
   "cell_type": "code",
   "execution_count": null,
   "metadata": {},
   "outputs": [],
   "source": [
    "from math import sqrt\n",
    "print(\"Input lengths of shorter triangle sides:\")\n",
    "a = float(input(\"a: \"))\n",
    "b = float(input(\"b: \"))\n",
    "c = sqrt(a**2 + b**2)\n",
    "print(\"The length of the hypotenuse is:\", c )"
   ]
  },
  {
   "cell_type": "code",
   "execution_count": null,
   "metadata": {},
   "outputs": [],
   "source": [
    "Write a python program to print the frequency of each of the characters present in a given string"
   ]
  },
  {
   "cell_type": "code",
   "execution_count": null,
   "metadata": {},
   "outputs": [],
   "source": [
    "strA=input(\"Enter the string: \")\n",
    "print(\"Given String: \",strA)\n",
    "\n",
    "res={n: strA.count(n) for n in set(strA)}\n",
    "\n",
    "# Result\n",
    "print(\"Frequency of each character :\\n \",res)"
   ]
  },
  {
   "cell_type": "code",
   "execution_count": null,
   "metadata": {},
   "outputs": [],
   "source": []
  }
 ],
 "metadata": {
  "kernelspec": {
   "display_name": "Python 3",
   "language": "python",
   "name": "python3"
  },
  "language_info": {
   "codemirror_mode": {
    "name": "ipython",
    "version": 3
   },
   "file_extension": ".py",
   "mimetype": "text/x-python",
   "name": "python",
   "nbconvert_exporter": "python",
   "pygments_lexer": "ipython3",
   "version": "3.8.5"
  }
 },
 "nbformat": 4,
 "nbformat_minor": 4
}
