{
 "cells": [
  {
   "cell_type": "raw",
   "metadata": {},
   "source": [
    "1. Bernoulli random variables take (only) the values 1 and 0.\n",
    "a) True\n",
    "b) False\n",
    "\n",
    "Ans- a) True\n",
    "\n",
    "2. Which of the following theorem states that the distribution of averages of iid variables, properly \n",
    "normalized, becomes that of a standard normal as the sample size increases?\n",
    "a) Central Limit Theorem\n",
    "b) Central Mean Theorem\n",
    "c) Centroid Limit Theorem\n",
    "d) All of the mentioned\n",
    "\n",
    "Ans- a) Central Limit Theorem\n",
    "\n",
    "3. Which of the following is incorrect with respect to use of Poisson distribution?\n",
    "a) Modeling event/time data\n",
    "b) Modeling bounded count data\n",
    "c) Modeling contingency tables\n",
    "d) All of the mentioned\n",
    "\n",
    "Ans- b) Modeling bounded count data\n",
    "\n",
    "4. Point out the correct statement.\n",
    "a) The exponent of a normally distributed random variables follows what is called the log- normal \n",
    "distribution\n",
    "b) Sums of normally distributed random variables are again normally distributed even if the variables \n",
    "are dependent\n",
    "c) The square of a standard normal random variable follows what is called chi-squared \n",
    "distribution\n",
    "d) All of the mentioned\n",
    "\n",
    "Ans- d) All of the mentioned\n",
    "\n",
    "\n",
    "5. ______ random variables are used to model rates.\n",
    "a) Empirical\n",
    "b) Binomial\n",
    "c) Poisson\n",
    "d) All of the mentioned\n",
    "\n",
    "Ans-c)  Poisson\n",
    "\n",
    "6. 10. Usually replacing the standard error by its estimated value does change the CLT.\n",
    "a) True\n",
    "b) False\n",
    "\n",
    "Ans-b) False\n",
    "\n",
    "7. Which of the following testing is concerned with making decisions using data?\n",
    "a) Probability\n",
    "b) Hypothesis\n",
    "c) Causal\n",
    "d) None of the mentioned\n",
    "\n",
    "Ans- b) Hypothesis\n",
    "\n",
    "8.Normalized data are centered at______and have units equal to standard deviations of the \n",
    "original data.\n",
    "a) 0\n",
    "b) 5\n",
    "c) 1\n",
    "d) 10\n",
    "\n",
    "Ans- a) 0\n",
    "\n",
    "9. Which of the following statement is incorrect with respect to outliers?\n",
    "a) Outliers can have varying degrees of influence\n",
    "b) Outliers can be the result of spurious or real processes\n",
    "c) Outliers cannot conform to the regression relationship\n",
    "d) None of the mentioned\n",
    "\n",
    "Ans - c) Outliers cannot conform to the regression relationship\n"
   ]
  },
  {
   "cell_type": "raw",
   "metadata": {},
   "source": [
    "\n",
    " \n",
    "\n"
   ]
  },
  {
   "cell_type": "markdown",
   "metadata": {},
   "source": [
    "10. What do you understand by the term Normal Distribution?\n",
    "\n",
    "Ans-  \n",
    "\n",
    "     Normal distribution is a term of probablity in which the mean is zero and the standard deviation is 1. \n",
    "     It has zero skew and a kurtosis of 3. It is  also known as the Gaussian distribution.The simplest case\n",
    "     of a normal distribution is known as the standard normal distribution.  it is an arrangement of a data set\n",
    "     in which most values cluster in the middle of the range and the rest taper off symmetrically toward either end"
   ]
  },
  {
   "cell_type": "markdown",
   "metadata": {},
   "source": [
    "11. How do you handle missing data? What imputation techniques do you recommend?\n",
    "\n",
    "Ans-\n",
    "\n",
    "    Imputation Using (Mean/Median) Values:\n",
    "        This works by calculating the mean/median of the non-missing values in a column and then \n",
    "        replacing the missing values within each column separately and independently from the others. \n",
    "        It can only be used with numeric data."
   ]
  },
  {
   "cell_type": "markdown",
   "metadata": {},
   "source": [
    "12. What is A/B testing?\n",
    "\n",
    "Ans-\n",
    "\n",
    "    It is a way to compare the two versions of a variable to find out which performs better in a controlled environment.\n",
    "    It is a hypothetical testing methodology for making decisions that estimate population parameters based on sample \n",
    "    statistics. It is a process whereby a hypothesis is made about the relationship between two data sets and those dataset\n",
    "    are then compared against each other to determine if there is a statistically significant relationship or not."
   ]
  },
  {
   "cell_type": "markdown",
   "metadata": {},
   "source": [
    "13. Is mean imputation of missing data acceptable practice?\n",
    "\n",
    "Ans-\n",
    "\n",
    "    Yes"
   ]
  },
  {
   "cell_type": "markdown",
   "metadata": {},
   "source": [
    "14. What is linear regression in statistics?\n",
    "\n",
    "Ans-\n",
    "\n",
    "    show the relationship between two variables by applying a linear equation to observed data. One variable is supposed \n",
    "    to be an independent variable, and the other is to be a dependent variable. The equation of linear regression is \n",
    "     Y=a+bX. Linear regression helps to finding the best-fitting straight line through the points."
   ]
  },
  {
   "cell_type": "markdown",
   "metadata": {},
   "source": [
    "15. What are the various branches of statistics\n",
    "\n",
    "Ans-\n",
    "\n",
    "    Statistics have majorly categorised into two \n",
    "\n",
    "   - Descriptive statistics\n",
    "   - Inferential statistics"
   ]
  },
  {
   "cell_type": "code",
   "execution_count": null,
   "metadata": {},
   "outputs": [],
   "source": []
  }
 ],
 "metadata": {
  "kernelspec": {
   "display_name": "Python 3",
   "language": "python",
   "name": "python3"
  },
  "language_info": {
   "codemirror_mode": {
    "name": "ipython",
    "version": 3
   },
   "file_extension": ".py",
   "mimetype": "text/x-python",
   "name": "python",
   "nbconvert_exporter": "python",
   "pygments_lexer": "ipython3",
   "version": "3.8.5"
  }
 },
 "nbformat": 4,
 "nbformat_minor": 4
}
